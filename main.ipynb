{
 "cells": [
  {
   "cell_type": "markdown",
   "id": "76e9a234-e8d2-4c06-bc62-3fcfaba7b642",
   "metadata": {},
   "source": [
    "## Introduction\n",
    "Where did data come from?\n",
    "\n",
    "The material id needs to be prepended by \"mp-\". The job is performed below"
   ]
  },
  {
   "cell_type": "code",
   "execution_count": 1,
   "id": "1ff8be58-9ef0-4180-97fe-af8210c01cff",
   "metadata": {},
   "outputs": [],
   "source": [
    "# import os\n",
    "# import sys\n",
    "# module_path = os.path.abspath(os.path.join(''))\n",
    "# if module_path not in sys.path:\n",
    "#     sys.path.append(module_path)\n",
    "    \n",
    "# print (module_path)\n",
    "\n",
    "# from utils import editdf as ed\n",
    "\n",
    "# editObj = ed.EditFile(\"../assets/HalfHeusler.csv\", \"Heusler compound.csv\")\n",
    "\n",
    "# editObj.edit()\n"
   ]
  },
  {
   "cell_type": "code",
   "execution_count": 2,
   "id": "6414f1e1-9f8a-4548-a684-0d471d7413f6",
   "metadata": {},
   "outputs": [
    {
     "name": "stdout",
     "output_type": "stream",
     "text": [
      "A formatted csv file is produced\n",
      "\n",
      "   Materials-ID Chemical-Fomula 4c-site 4a-site 4b-site\n",
      "0          2894          ScSnAu      Au      Sc      Sn\n",
      "1          3161          LiAlSi      Si      Li      Al\n",
      "2          3432          ScNiSb      Ni      Sc      Sb\n",
      "3          3462          TmSnAu      Au      Tm      Sn\n",
      "4          3522          MgCuSb      Cu      Mg      Sb\n",
      "  Chemical-Fomula 4c-site 4a-site 4b-site Materials-ID\n",
      "0          ScSnAu      Au      Sc      Sn      mp-2894\n",
      "1          LiAlSi      Si      Li      Al      mp-3161\n",
      "2          ScNiSb      Ni      Sc      Sb      mp-3432\n",
      "3          TmSnAu      Au      Tm      Sn      mp-3462\n",
      "4          MgCuSb      Cu      Mg      Sb      mp-3522\n"
     ]
    }
   ],
   "source": [
    "import os.path\n",
    "import pandas as pd\n",
    "\n",
    "path_to_file = 'assets/HalfHeusler.csv'\n",
    "file_name = 'assets/Heusler compound.csv'\n",
    "\n",
    "if (not os.path.exists(file_name)):\n",
    "    print (\"A formatted csv file is produced\\n\")\n",
    "    df = pd.read_csv(path_to_file)\n",
    "    print (df.head())\n",
    "\n",
    "    id_list = df['Materials-ID'].to_list()\n",
    "\n",
    "    n = df.columns[0]\n",
    "    df.drop(n, axis=1, inplace=True)\n",
    "\n",
    "    df[n] = [\"mp-\" + str(x) for x in id_list]\n",
    "    print (df.head())\n",
    "\n",
    "    df.to_csv(file_name, index = False)"
   ]
  },
  {
   "cell_type": "markdown",
   "id": "a7ed94a0-6557-417a-b694-03f5d24d26f7",
   "metadata": {},
   "source": [
    "- Lattice parameters, atomic radii and atomic masses.\n",
    "- Python library 'pymatgen'"
   ]
  },
  {
   "cell_type": "code",
   "execution_count": 4,
   "id": "83bd3313-ef63-4c79-9d93-9bf56c5f4a74",
   "metadata": {},
   "outputs": [
    {
     "name": "stdout",
     "output_type": "stream",
     "text": [
      "Training data will be generated\n",
      "\n",
      "  4c-site 4a-site 4b-site Materials-ID\n",
      "0      Au      Sc      Sn      mp-2894\n",
      "1      Si      Li      Al      mp-3161\n",
      "2      Ni      Sc      Sb      mp-3432\n",
      "3      Au      Tm      Sn      mp-3462\n",
      "4      Cu      Mg      Sb      mp-3522\n",
      "     r3    r1    r2  m3  m1  m2  lattice-constant\n",
      "0  1.74  1.84  1.45  79  21  50          4.611608\n",
      "1  1.11  1.67  1.18  14   3  13          4.199121\n",
      "2  1.49  1.84  1.33  28  21  51          4.320950\n",
      "3  1.74  2.22  1.45  79  69  50          4.726488\n",
      "4  1.45  1.45  1.33  29  12  51          4.412778\n"
     ]
    }
   ],
   "source": [
    "'''\n",
    "The Element class is located in the core subpakage inside the periodic_table module. \n",
    "The link to the API documentation is below.\n",
    "\n",
    "https://pymatgen.org/pymatgen.core.periodic_table.html#pymatgen.core.periodic_table.Element\n",
    "'''\n",
    "\n",
    "import pymatgen.core as pg\n",
    "from pymatgen.ext.matproj import MPRester\n",
    "\n",
    "file_name_train = 'assets/Training data.csv'\n",
    "\n",
    "if (not os.path.exists(file_name_train)):\n",
    "    print (\"Training data will be generated\\n\")\n",
    "\n",
    "    m = MPRester('fmdc9tZK1xE74JOq')\n",
    "\n",
    "    heusler_df = pd.read_csv(file_name, header=0, usecols= ['Materials-ID', '4a-site', '4b-site', '4c-site'])\n",
    "    print (heusler_df.head())\n",
    "\n",
    "    data = []\n",
    "    for idx in heusler_df.index:\n",
    "        e1 = pg.Element(heusler_df['4a-site'][idx])\n",
    "        e2 = pg.Element(heusler_df['4b-site'][idx])\n",
    "        e3 = pg.Element(heusler_df['4c-site'][idx])\n",
    "        s = m.get_structures(heusler_df['Materials-ID'][idx])\n",
    "\n",
    "        data.append((e3.atomic_radius_calculated, e1.atomic_radius_calculated, e2.atomic_radius_calculated,\n",
    "                     e3.Z, e1.Z, e2.Z, s[0].lattice.abc[0]))\n",
    "\n",
    "df_train = pd.DataFrame(data, columns= ['r3', 'r1', 'r2', 'm3', 'm1', 'm2', 'lattice-constant'])\n",
    "print (df_train.head())\n",
    "\n",
    "df_train.to_csv(file_name_train, index = False)"
   ]
  },
  {
   "cell_type": "code",
   "execution_count": null,
   "id": "73e921a2-10b0-4c7c-824e-fcf59b1d436c",
   "metadata": {},
   "outputs": [],
   "source": []
  }
 ],
 "metadata": {
  "kernelspec": {
   "display_name": "Python 3",
   "language": "python",
   "name": "python3"
  },
  "language_info": {
   "codemirror_mode": {
    "name": "ipython",
    "version": 3
   },
   "file_extension": ".py",
   "mimetype": "text/x-python",
   "name": "python",
   "nbconvert_exporter": "python",
   "pygments_lexer": "ipython3",
   "version": "3.9.6"
  }
 },
 "nbformat": 4,
 "nbformat_minor": 5
}
