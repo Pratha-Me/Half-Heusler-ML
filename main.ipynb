{
 "cells": [
  {
   "cell_type": "markdown",
   "id": "76e9a234-e8d2-4c06-bc62-3fcfaba7b642",
   "metadata": {},
   "source": [
    "## Introduction\n",
    "Where did data come from?\n",
    "\n",
    "The material id needs to be prepended by \"mp-\". The job is performed below"
   ]
  },
  {
   "cell_type": "code",
   "execution_count": 60,
   "id": "1ff8be58-9ef0-4180-97fe-af8210c01cff",
   "metadata": {},
   "outputs": [],
   "source": [
    "# import os\n",
    "# import sys\n",
    "# module_path = os.path.abspath(os.path.join(''))\n",
    "# if module_path not in sys.path:\n",
    "#     sys.path.append(module_path)\n",
    "    \n",
    "# print (module_path)\n",
    "\n",
    "# from utils.editdf import EditFile \n",
    "\n",
    "# ed = EditFile()\n",
    "# ed.generateFile('assets/HalfHeusler.csv', 'assets/Heusler compound.csv')\n"
   ]
  },
  {
   "cell_type": "code",
   "execution_count": 61,
   "id": "6414f1e1-9f8a-4548-a684-0d471d7413f6",
   "metadata": {},
   "outputs": [
    {
     "name": "stdout",
     "output_type": "stream",
     "text": [
      "A formatted csv file is produced\n",
      "\n",
      "   Materials-ID Chemical-Fomula 4c-site 4a-site 4b-site\n",
      "0          2894          ScSnAu      Au      Sc      Sn\n",
      "1          3161          LiAlSi      Si      Li      Al\n",
      "2          3432          ScNiSb      Ni      Sc      Sb\n",
      "3          3462          TmSnAu      Au      Tm      Sn\n",
      "4          3522          MgCuSb      Cu      Mg      Sb\n",
      "  Chemical-Fomula 4c-site 4a-site 4b-site Materials-ID\n",
      "0          ScSnAu      Au      Sc      Sn      mp-2894\n",
      "1          LiAlSi      Si      Li      Al      mp-3161\n",
      "2          ScNiSb      Ni      Sc      Sb      mp-3432\n",
      "3          TmSnAu      Au      Tm      Sn      mp-3462\n",
      "4          MgCuSb      Cu      Mg      Sb      mp-3522\n"
     ]
    }
   ],
   "source": [
    "import os.path\n",
    "import pandas as pd\n",
    "\n",
    "path_to_file = 'assets/HalfHeusler.csv'\n",
    "file_name = 'assets/Heusler compound.csv'\n",
    "\n",
    "if (not os.path.exists(file_name)):\n",
    "    print (\"A formatted csv file is produced\\n\")\n",
    "    df = pd.read_csv(path_to_file)\n",
    "    print (df.head())\n",
    "\n",
    "    id_list = df['Materials-ID'].to_list()\n",
    "\n",
    "    n = df.columns[0]\n",
    "    df.drop(n, axis=1, inplace=True)\n",
    "\n",
    "    df[n] = [\"mp-\" + str(x) for x in id_list]\n",
    "    print (df.head())\n",
    "\n",
    "    df.to_csv(file_name, index = False)"
   ]
  },
  {
   "cell_type": "markdown",
   "id": "a7ed94a0-6557-417a-b694-03f5d24d26f7",
   "metadata": {},
   "source": [
    "- Lattice parameters, atomic radii and atomic masses.\n",
    "- Python library 'pymatgen'"
   ]
  },
  {
   "cell_type": "code",
   "execution_count": 62,
   "id": "83bd3313-ef63-4c79-9d93-9bf56c5f4a74",
   "metadata": {},
   "outputs": [
    {
     "name": "stdout",
     "output_type": "stream",
     "text": [
      "Training data will be generated\n",
      "\n"
     ]
    }
   ],
   "source": [
    "'''\n",
    "The Element class is located in the core subpakage inside the periodic_table module. \n",
    "The link to the API documentation is below.\n",
    "\n",
    "    https://pymatgen.org/pymatgen.core.periodic_table.html#pymatgen.core.periodic_table.Element\n",
    "\n",
    "Similarly the material project APIs are hosted in the following module.\n",
    "\n",
    "    https://pymatgen.org/pymatgen.ext.matproj.html?highlight=mprester#module-pymatgen.ext.matproj\n",
    "'''\n",
    "\n",
    "import pymatgen.core as pg\n",
    "from pymatgen.ext.matproj import MPRester\n",
    "from math import sqrt\n",
    "import sys\n",
    "\n",
    "file_name_train = 'assets/Training data.csv'\n",
    "\n",
    "if (not os.path.exists(file_name_train)):\n",
    "    print (\"Training data will be generated\\n\")\n",
    "\n",
    "    heusler_df = pd.read_csv(file_name, header=0, usecols= ['Materials-ID', '4a-site', '4b-site', '4c-site'])\n",
    "    data = []\n",
    "\n",
    "    m = MPRester('fmdc9tZK1xE74JOq')\n",
    "    for idx in heusler_df.index:\n",
    "        lat = m.get_structures(heusler_df['Materials-ID'][idx])[0].lattice.abc\n",
    "        mat_data = m.get_data(heusler_df['Materials-ID'][idx])\n",
    "        \n",
    "        e1 = pg.Element(heusler_df['4a-site'][idx])\n",
    "        e2 = pg.Element(heusler_df['4b-site'][idx])\n",
    "        e3 = pg.Element(heusler_df['4c-site'][idx])\n",
    "\n",
    "        x1 = e1.atomic_radius_calculated\n",
    "        x2 = e2.atomic_radius_calculated\n",
    "        x3 = e3.atomic_radius_calculated\n",
    "        m1 = e1.Z\n",
    "        m2 = e2.Z\n",
    "        m3 = e3.Z\n",
    "        \n",
    "        if (x1 is None):\n",
    "            x1 = 2.16\n",
    "            \n",
    "        x29 = m1+m2+m3\n",
    "        x30 = x1+x2+x3\n",
    "        x33 = (x29/3 -m1)\n",
    "        x34 = (x29/3 -m2)\n",
    "        x35 = (x29/3 -m3)\n",
    "        x42 = (x30/3 -x1)\n",
    "        x43 = (x30/3 -x2)\n",
    "        x44 = (x30/3 -x3)\n",
    "        x51 = (x1**2 + x2**2)\n",
    "        x52 = (x1**2 + x3**2)\n",
    "            \n",
    "        data.append((x1,x2,x3,m1,m2,m3,m1**2,m2**2,m3**2,x1**2,x2**2,x3**2,\n",
    "                     m1**3,m2**3,m3**3,x1**3,x2**3,x3**3,\n",
    "                     sqrt(m1),sqrt(m2),sqrt(m3),sqrt(x1),sqrt(x2),sqrt(x3),\n",
    "                     m2/m1, x3/m1, x2/x1,x3/x1, x29,x30,\n",
    "                     ((m1**2+m2**2+m3**2)/3.)**2, ((x1**2+x2**2+x3**2)/3.)**2,\n",
    "                     x33, x34, x35, abs(x33), abs(x34), abs(x35), x33**2, x34**2, x35**2,\n",
    "                     x42, x43, x44, abs(x42), abs(x43), abs(x44), x42**2, x43**2, x44**2,\n",
    "                     x51, x52,sqrt(x51), sqrt(x52), mat_data[0][\"formation_energy_per_atom\"], lat[0], lat[1], lat[2]\n",
    "                    ))\n",
    "\n",
    "    idx = []\n",
    "    for i in range(1, 55):\n",
    "        idx.append('x'+str(i))\n",
    "\n",
    "    idx.extend(['form_energy_per_atom','a', 'b', 'c'])\n",
    "    df_train = pd.DataFrame(data, columns = idx)\n",
    "\n",
    "    df_train.to_csv(file_name_train, index = False)"
   ]
  },
  {
   "cell_type": "markdown",
   "id": "d8b0b11a-42ea-4618-97e2-168a11042613",
   "metadata": {},
   "source": [
    "## Machine Learning\n",
    "The gradient boosted trees are selected for the regression task. The cross-validation is the first step.\n",
    "\n",
    "### Cross-Validation\n",
    "A five fold cross validation will be performed for the better performance of the model."
   ]
  },
  {
   "cell_type": "code",
   "execution_count": 63,
   "id": "03900c06-44bc-484f-a04f-fcf4ebf9471e",
   "metadata": {},
   "outputs": [
    {
     "name": "stdout",
     "output_type": "stream",
     "text": [
      "     x1    x2    x3  x4  x5  x6    x7    x8    x9     x10  ...       x49  \\\n",
      "0  1.84  1.45  1.74  21  50  79   441  2500  6241  3.3856  ...  0.051378   \n",
      "1  1.67  1.18  1.11   3  13  14     9   169   196  2.7889  ...  0.019600   \n",
      "2  1.84  1.33  1.49  21  51  28   441  2601   784  3.3856  ...  0.049878   \n",
      "3  2.22  1.45  1.74  69  50  79  4761  2500  6241  4.9284  ...  0.124844   \n",
      "4  1.45  1.33  1.45  12  51  29   144  2601   841  2.1025  ...  0.006400   \n",
      "\n",
      "        x50     x51     x52       x53       x54  form_energy_per_atom  \\\n",
      "0  0.004011  5.4881  6.4132  2.342669  2.532430             -0.760831   \n",
      "1  0.044100  4.1813  4.0210  2.044823  2.005243             -0.191266   \n",
      "2  0.004011  5.1545  5.6057  2.270352  2.367636             -0.963594   \n",
      "3  0.004011  7.0309  7.9560  2.651584  2.820638             -0.835058   \n",
      "4  0.001600  3.8714  4.2050  1.967587  2.050610             -0.335699   \n",
      "\n",
      "          a         b         c  \n",
      "0  4.611608  4.611608  4.611608  \n",
      "1  4.199121  4.199121  4.199121  \n",
      "2  4.320950  4.320950  4.320950  \n",
      "3  4.726488  4.726488  4.726488  \n",
      "4  4.412778  4.412778  4.412778  \n",
      "\n",
      "[5 rows x 58 columns]\n"
     ]
    }
   ],
   "source": [
    "# from sklearn.model_selection import KFold\n",
    "# kf = KFold(n_splits=5, random_state=44)\n",
    "\n",
    "df = pd.read_csv('assets/Training data.csv')\n",
    "\n",
    "print (df.head())\n",
    "\n"
   ]
  },
  {
   "cell_type": "code",
   "execution_count": null,
   "id": "3b6e54d9-ba3d-477a-add3-c30fe2776100",
   "metadata": {},
   "outputs": [],
   "source": []
  }
 ],
 "metadata": {
  "kernelspec": {
   "display_name": "Python 3",
   "language": "python",
   "name": "python3"
  },
  "language_info": {
   "codemirror_mode": {
    "name": "ipython",
    "version": 3
   },
   "file_extension": ".py",
   "mimetype": "text/x-python",
   "name": "python",
   "nbconvert_exporter": "python",
   "pygments_lexer": "ipython3",
   "version": "3.9.6"
  }
 },
 "nbformat": 4,
 "nbformat_minor": 5
}
