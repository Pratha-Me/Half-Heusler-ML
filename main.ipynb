{
  "nbformat": 4,
  "nbformat_minor": 5,
  "metadata": {
    "kernelspec": {
      "display_name": "Python 3",
      "language": "python",
      "name": "python3"
    },
    "language_info": {
      "codemirror_mode": {
        "name": "ipython",
        "version": 3
      },
      "file_extension": ".py",
      "mimetype": "text/x-python",
      "name": "python",
      "nbconvert_exporter": "python",
      "pygments_lexer": "ipython3",
      "version": "3.9.6"
    },
    "colab": {
      "name": "main.ipynb",
      "provenance": [],
      "collapsed_sections": []
    }
  },
  "cells": [
    {
      "cell_type": "markdown",
      "metadata": {
        "id": "76e9a234-e8d2-4c06-bc62-3fcfaba7b642"
      },
      "source": [
        "## Introduction\n",
        "Where did data come from?\n",
        "\n",
        "The material id needs to be prepended by \"mp-\". The job is performed below"
      ],
      "id": "76e9a234-e8d2-4c06-bc62-3fcfaba7b642"
    },
    {
      "cell_type": "code",
      "metadata": {
        "id": "1ff8be58-9ef0-4180-97fe-af8210c01cff"
      },
      "source": [
        "# import os\n",
        "# import sys\n",
        "# module_path = os.path.abspath(os.path.join(''))\n",
        "# if module_path not in sys.path:\n",
        "#     sys.path.append(module_path)\n",
        "    \n",
        "# print (module_path)\n",
        "\n",
        "# from utils.editdf import EditFile \n",
        "\n",
        "# ed = EditFile()\n",
        "# ed.generateFile('assets/HalfHeusler.csv', 'assets/Heusler compound.csv')\n"
      ],
      "id": "1ff8be58-9ef0-4180-97fe-af8210c01cff",
      "execution_count": 18,
      "outputs": []
    },
    {
      "cell_type": "code",
      "metadata": {
        "id": "6414f1e1-9f8a-4548-a684-0d471d7413f6"
      },
      "source": [
        "import warnings\n",
        "warnings.filterwarnings('ignore')\n",
        "warnings.simplefilter('ignore')\n",
        "\n",
        "import os.path\n",
        "import pandas as pd\n",
        "\n",
        "path_to_file = 'assets/HalfHeusler.csv'\n",
        "file_name = 'assets/Heusler compound.csv'\n",
        "\n",
        "if (not os.path.exists(file_name)):\n",
        "    print (\"A formatted csv file is produced\\n\")\n",
        "    df = pd.read_csv(path_to_file)\n",
        "    print (df.head())\n",
        "\n",
        "    id_list = df['Materials-ID'].to_list()\n",
        "\n",
        "    n = df.columns[0]\n",
        "    df.drop(n, axis=1, inplace=True)\n",
        "\n",
        "    df[n] = [\"mp-\" + str(x) for x in id_list]\n",
        "    print (df.head())\n",
        "\n",
        "    df.to_csv(file_name, index = False)"
      ],
      "id": "6414f1e1-9f8a-4548-a684-0d471d7413f6",
      "execution_count": 19,
      "outputs": []
    },
    {
      "cell_type": "markdown",
      "metadata": {
        "id": "a7ed94a0-6557-417a-b694-03f5d24d26f7"
      },
      "source": [
        "- Lattice parameters, atomic radii and atomic masses. The atomic radius is calculated value and not the empirical values\n",
        "- Python library 'pymatgen'"
      ],
      "id": "a7ed94a0-6557-417a-b694-03f5d24d26f7"
    },
    {
      "cell_type": "code",
      "metadata": {
        "id": "83bd3313-ef63-4c79-9d93-9bf56c5f4a74",
        "colab": {
          "base_uri": "https://localhost:8080/",
          "height": 528
        },
        "outputId": "97ba377d-5cfe-4aa2-e6d7-34412cbcab8c"
      },
      "source": [
        "'''\n",
        "The Element class is located in the core subpakage inside the periodic_table module. \n",
        "The link to the API documentation is below.\n",
        "\n",
        "    https://pymatgen.org/pymatgen.core.periodic_table.html#pymatgen.core.periodic_table.Element\n",
        "\n",
        "Similarly the material project APIs are hosted in the following module.\n",
        "\n",
        "    https://pymatgen.org/pymatgen.ext.matproj.html?highlight=mprester#module-pymatgen.ext.matproj\n",
        "'''\n",
        "# %pip install pymatgen\n",
        "\n",
        "import pymatgen.core as pg\n",
        "from pymatgen.ext.matproj import MPRester\n",
        "from math import sqrt\n",
        "import sys\n",
        "\n",
        "file_name_train = 'assets/Training data.csv'\n",
        "\n",
        "if (not os.path.exists(file_name_train)):\n",
        "    print (\"Training data will be generated\\n\")\n",
        "\n",
        "    heusler_df = pd.read_csv(file_name, header=0, usecols= ['Materials-ID', '4a-site', '4b-site', '4c-site'])\n",
        "    data = []\n",
        "\n",
        "    m = MPRester('fmdc9tZK1xE74JOq')\n",
        "    for idx in heusler_df.index:\n",
        "        mat_data = m.get_data(heusler_df['Materials-ID'][idx])\n",
        "        lat = m.get_structure_by_material_id(heusler_df['Materials-ID'][idx])\n",
        "        \n",
        "        lat_const = lat.lattice.abc\n",
        "        mag_moment = sum(lat.site_properties['magmom'])\n",
        "        \n",
        "        e1 = pg.Element(heusler_df['4a-site'][idx])\n",
        "        e2 = pg.Element(heusler_df['4b-site'][idx])\n",
        "        e3 = pg.Element(heusler_df['4c-site'][idx])\n",
        "\n",
        "        x1 = e1.atomic_radius\n",
        "        x2 = e2.atomic_radius\n",
        "        x3 = e3.atomic_radius\n",
        "        m1 = e1.atomic_mass\n",
        "        m2 = e2.atomic_mass\n",
        "        m3 = e3.atomic_mass\n",
        "        \n",
        "        \n",
        "        x29 = m1+m2+m3\n",
        "        x30 = x1+x2+x3\n",
        "        x33 = (x29/3 -m1)\n",
        "        x34 = (x29/3 -m2)\n",
        "        x35 = (x29/3 -m3)\n",
        "        x42 = (x30/3 -x1)\n",
        "        x43 = (x30/3 -x2)\n",
        "        x44 = (x30/3 -x3)\n",
        "        x51 = (x1**2 + x2**2)\n",
        "        x52 = (x1**2 + x3**2)\n",
        "            \n",
        "        data.append((x1,x2,x3,m1,m2,m3,m1**2,m2**2,m3**2,x1**2,x2**2,x3**2,\n",
        "                     m1**3,m2**3,m3**3,x1**3,x2**3,x3**3,\n",
        "                     sqrt(m1),sqrt(m2),sqrt(m3),sqrt(x1),sqrt(x2),sqrt(x3),\n",
        "                     m2/m1, x3/m1, x2/x1,x3/x1, x29,x30,\n",
        "                     ((m1**2+m2**2+m3**2)/3.)**2, ((x1**2+x2**2+x3**2)/3.)**2,\n",
        "                     x33, x34, x35, abs(x33), abs(x34), abs(x35), x33**2, x34**2, x35**2,\n",
        "                     x42, x43, x44, abs(x42), abs(x43), abs(x44), x42**2, x43**2, x44**2,\n",
        "                     x51, x52,sqrt(x51), sqrt(x52), \n",
        "                     mat_data[0][\"formation_energy_per_atom\"], # mag_moment,\n",
        "                     lat_const[0], lat_const[1], lat_const[2]\n",
        "                    ))\n",
        "\n",
        "    idx = []\n",
        "    for i in range(1, 55):\n",
        "        idx.append('x'+str(i))\n",
        "\n",
        "#     idx.extend(['form_energy_per_atom', 'total_magnetic_moment','a', 'b', 'c'])\n",
        "    idx.extend(['form_energy_per_atom','a', 'b', 'c'])\n",
        "    df_train = pd.DataFrame(data, columns = idx)\n",
        "\n",
        "    df_train.to_csv(file_name_train, index = False)"
      ],
      "id": "83bd3313-ef63-4c79-9d93-9bf56c5f4a74",
      "execution_count": 29,
      "outputs": [
        {
          "output_type": "error",
          "ename": "ImportError",
          "evalue": "ignored",
          "traceback": [
            "\u001b[0;31m---------------------------------------------------------------------------\u001b[0m",
            "\u001b[0;31mImportError\u001b[0m                               Traceback (most recent call last)",
            "\u001b[0;32m<ipython-input-29-774e2b21d1bf>\u001b[0m in \u001b[0;36m<module>\u001b[0;34m()\u001b[0m\n\u001b[1;32m     12\u001b[0m \u001b[0;34m\u001b[0m\u001b[0m\n\u001b[1;32m     13\u001b[0m \u001b[0;32mimport\u001b[0m \u001b[0mpymatgen\u001b[0m\u001b[0;34m.\u001b[0m\u001b[0mcore\u001b[0m \u001b[0;32mas\u001b[0m \u001b[0mpg\u001b[0m\u001b[0;34m\u001b[0m\u001b[0;34m\u001b[0m\u001b[0m\n\u001b[0;32m---> 14\u001b[0;31m \u001b[0;32mfrom\u001b[0m \u001b[0mpymatgen\u001b[0m\u001b[0;34m.\u001b[0m\u001b[0mext\u001b[0m\u001b[0;34m.\u001b[0m\u001b[0mmatproj\u001b[0m \u001b[0;32mimport\u001b[0m \u001b[0mMPRester\u001b[0m\u001b[0;34m\u001b[0m\u001b[0;34m\u001b[0m\u001b[0m\n\u001b[0m\u001b[1;32m     15\u001b[0m \u001b[0;32mfrom\u001b[0m \u001b[0mmath\u001b[0m \u001b[0;32mimport\u001b[0m \u001b[0msqrt\u001b[0m\u001b[0;34m\u001b[0m\u001b[0;34m\u001b[0m\u001b[0m\n\u001b[1;32m     16\u001b[0m \u001b[0;32mimport\u001b[0m \u001b[0msys\u001b[0m\u001b[0;34m\u001b[0m\u001b[0;34m\u001b[0m\u001b[0m\n",
            "\u001b[0;32m/usr/local/lib/python3.7/dist-packages/pymatgen/ext/matproj.py\u001b[0m in \u001b[0;36m<module>\u001b[0;34m()\u001b[0m\n\u001b[1;32m     32\u001b[0m \u001b[0;32mfrom\u001b[0m \u001b[0mpymatgen\u001b[0m\u001b[0;34m.\u001b[0m\u001b[0mcore\u001b[0m\u001b[0;34m.\u001b[0m\u001b[0mperiodic_table\u001b[0m \u001b[0;32mimport\u001b[0m \u001b[0mElement\u001b[0m\u001b[0;34m\u001b[0m\u001b[0;34m\u001b[0m\u001b[0m\n\u001b[1;32m     33\u001b[0m \u001b[0;32mfrom\u001b[0m \u001b[0mpymatgen\u001b[0m\u001b[0;34m.\u001b[0m\u001b[0mcore\u001b[0m\u001b[0;34m.\u001b[0m\u001b[0mstructure\u001b[0m \u001b[0;32mimport\u001b[0m \u001b[0mStructure\u001b[0m\u001b[0;34m\u001b[0m\u001b[0;34m\u001b[0m\u001b[0m\n\u001b[0;32m---> 34\u001b[0;31m \u001b[0;32mfrom\u001b[0m \u001b[0mpymatgen\u001b[0m\u001b[0;34m.\u001b[0m\u001b[0mcore\u001b[0m\u001b[0;34m.\u001b[0m\u001b[0msurface\u001b[0m \u001b[0;32mimport\u001b[0m \u001b[0mget_symmetrically_equivalent_miller_indices\u001b[0m\u001b[0;34m\u001b[0m\u001b[0;34m\u001b[0m\u001b[0m\n\u001b[0m\u001b[1;32m     35\u001b[0m \u001b[0;32mfrom\u001b[0m \u001b[0mpymatgen\u001b[0m\u001b[0;34m.\u001b[0m\u001b[0mentries\u001b[0m\u001b[0;34m.\u001b[0m\u001b[0mcomputed_entries\u001b[0m \u001b[0;32mimport\u001b[0m \u001b[0mComputedEntry\u001b[0m\u001b[0;34m,\u001b[0m \u001b[0mComputedStructureEntry\u001b[0m\u001b[0;34m\u001b[0m\u001b[0;34m\u001b[0m\u001b[0m\n\u001b[1;32m     36\u001b[0m \u001b[0;32mfrom\u001b[0m \u001b[0mpymatgen\u001b[0m\u001b[0;34m.\u001b[0m\u001b[0mentries\u001b[0m\u001b[0;34m.\u001b[0m\u001b[0mexp_entries\u001b[0m \u001b[0;32mimport\u001b[0m \u001b[0mExpEntry\u001b[0m\u001b[0;34m\u001b[0m\u001b[0;34m\u001b[0m\u001b[0m\n",
            "\u001b[0;32m/usr/local/lib/python3.7/dist-packages/pymatgen/core/surface.py\u001b[0m in \u001b[0;36m<module>\u001b[0;34m()\u001b[0m\n\u001b[1;32m     30\u001b[0m \u001b[0;32mimport\u001b[0m \u001b[0mnumpy\u001b[0m \u001b[0;32mas\u001b[0m \u001b[0mnp\u001b[0m\u001b[0;34m\u001b[0m\u001b[0;34m\u001b[0m\u001b[0m\n\u001b[1;32m     31\u001b[0m \u001b[0;32mfrom\u001b[0m \u001b[0mmonty\u001b[0m\u001b[0;34m.\u001b[0m\u001b[0mfractions\u001b[0m \u001b[0;32mimport\u001b[0m \u001b[0mlcm\u001b[0m\u001b[0;34m\u001b[0m\u001b[0;34m\u001b[0m\u001b[0m\n\u001b[0;32m---> 32\u001b[0;31m \u001b[0;32mfrom\u001b[0m \u001b[0mscipy\u001b[0m\u001b[0;34m.\u001b[0m\u001b[0mcluster\u001b[0m\u001b[0;34m.\u001b[0m\u001b[0mhierarchy\u001b[0m \u001b[0;32mimport\u001b[0m \u001b[0mfcluster\u001b[0m\u001b[0;34m,\u001b[0m \u001b[0mlinkage\u001b[0m\u001b[0;34m\u001b[0m\u001b[0;34m\u001b[0m\u001b[0m\n\u001b[0m\u001b[1;32m     33\u001b[0m \u001b[0;32mfrom\u001b[0m \u001b[0mscipy\u001b[0m\u001b[0;34m.\u001b[0m\u001b[0mspatial\u001b[0m\u001b[0;34m.\u001b[0m\u001b[0mdistance\u001b[0m \u001b[0;32mimport\u001b[0m \u001b[0msquareform\u001b[0m\u001b[0;34m\u001b[0m\u001b[0;34m\u001b[0m\u001b[0m\n\u001b[1;32m     34\u001b[0m \u001b[0;34m\u001b[0m\u001b[0m\n",
            "\u001b[0;32m/usr/local/lib/python3.7/dist-packages/scipy/cluster/__init__.py\u001b[0m in \u001b[0;36m<module>\u001b[0;34m()\u001b[0m\n\u001b[1;32m     23\u001b[0m \u001b[0m__all__\u001b[0m \u001b[0;34m=\u001b[0m \u001b[0;34m[\u001b[0m\u001b[0;34m'vq'\u001b[0m\u001b[0;34m,\u001b[0m \u001b[0;34m'hierarchy'\u001b[0m\u001b[0;34m]\u001b[0m\u001b[0;34m\u001b[0m\u001b[0;34m\u001b[0m\u001b[0m\n\u001b[1;32m     24\u001b[0m \u001b[0;34m\u001b[0m\u001b[0m\n\u001b[0;32m---> 25\u001b[0;31m \u001b[0;32mfrom\u001b[0m \u001b[0;34m.\u001b[0m \u001b[0;32mimport\u001b[0m \u001b[0mvq\u001b[0m\u001b[0;34m,\u001b[0m \u001b[0mhierarchy\u001b[0m\u001b[0;34m\u001b[0m\u001b[0;34m\u001b[0m\u001b[0m\n\u001b[0m\u001b[1;32m     26\u001b[0m \u001b[0;34m\u001b[0m\u001b[0m\n\u001b[1;32m     27\u001b[0m \u001b[0;32mfrom\u001b[0m \u001b[0mscipy\u001b[0m\u001b[0;34m.\u001b[0m\u001b[0m_lib\u001b[0m\u001b[0;34m.\u001b[0m\u001b[0m_testutils\u001b[0m \u001b[0;32mimport\u001b[0m \u001b[0mPytestTester\u001b[0m\u001b[0;34m\u001b[0m\u001b[0;34m\u001b[0m\u001b[0m\n",
            "\u001b[0;32m/usr/local/lib/python3.7/dist-packages/scipy/cluster/vq.py\u001b[0m in \u001b[0;36m<module>\u001b[0;34m()\u001b[0m\n\u001b[1;32m     68\u001b[0m \u001b[0;32mimport\u001b[0m \u001b[0mnumpy\u001b[0m \u001b[0;32mas\u001b[0m \u001b[0mnp\u001b[0m\u001b[0;34m\u001b[0m\u001b[0;34m\u001b[0m\u001b[0m\n\u001b[1;32m     69\u001b[0m \u001b[0;32mfrom\u001b[0m \u001b[0mcollections\u001b[0m \u001b[0;32mimport\u001b[0m \u001b[0mdeque\u001b[0m\u001b[0;34m\u001b[0m\u001b[0;34m\u001b[0m\u001b[0m\n\u001b[0;32m---> 70\u001b[0;31m \u001b[0;32mfrom\u001b[0m \u001b[0mscipy\u001b[0m\u001b[0;34m.\u001b[0m\u001b[0m_lib\u001b[0m\u001b[0;34m.\u001b[0m\u001b[0m_util\u001b[0m \u001b[0;32mimport\u001b[0m \u001b[0m_asarray_validated\u001b[0m\u001b[0;34m,\u001b[0m \u001b[0mcheck_random_state\u001b[0m\u001b[0;34m,\u001b[0m\u001b[0;31m\\\u001b[0m\u001b[0;34m\u001b[0m\u001b[0;34m\u001b[0m\u001b[0m\n\u001b[0m\u001b[1;32m     71\u001b[0m     \u001b[0mrng_integers\u001b[0m\u001b[0;34m\u001b[0m\u001b[0;34m\u001b[0m\u001b[0m\n\u001b[1;32m     72\u001b[0m \u001b[0;32mfrom\u001b[0m \u001b[0mscipy\u001b[0m\u001b[0;34m.\u001b[0m\u001b[0mspatial\u001b[0m\u001b[0;34m.\u001b[0m\u001b[0mdistance\u001b[0m \u001b[0;32mimport\u001b[0m \u001b[0mcdist\u001b[0m\u001b[0;34m\u001b[0m\u001b[0;34m\u001b[0m\u001b[0m\n",
            "\u001b[0;31mImportError\u001b[0m: cannot import name 'rng_integers' from 'scipy._lib._util' (/usr/local/lib/python3.7/dist-packages/scipy/_lib/_util.py)",
            "",
            "\u001b[0;31m---------------------------------------------------------------------------\u001b[0;32m\nNOTE: If your import is failing due to a missing package, you can\nmanually install dependencies using either !pip or !apt.\n\nTo view examples of installing some common dependencies, click the\n\"Open Examples\" button below.\n\u001b[0;31m---------------------------------------------------------------------------\u001b[0m\n"
          ],
          "errorDetails": {
            "actions": [
              {
                "action": "open_url",
                "actionText": "Open Examples",
                "url": "/notebooks/snippets/importing_libraries.ipynb"
              }
            ]
          }
        }
      ]
    },
    {
      "cell_type": "markdown",
      "metadata": {
        "id": "d8b0b11a-42ea-4618-97e2-168a11042613"
      },
      "source": [
        "## Machine Learning\n",
        "The gradient boosted trees are selected for the regression task. The cross-validation is the first step.\n",
        "\n",
        "### Scaling\n",
        "Use MinMaxScaler"
      ],
      "id": "d8b0b11a-42ea-4618-97e2-168a11042613"
    },
    {
      "cell_type": "code",
      "metadata": {
        "id": "cce1dc4e-9e24-49d1-aff0-2d535265564d"
      },
      "source": [
        "# from sklearn.preprocessing import MinMaxScaler\n",
        "# \n",
        "# df = pd.read_csv('assets/Training data.csv')\n",
        "# \n",
        "# X = df.iloc[:, :-3]\n",
        "# y = df.iloc[:, -1]\n",
        "# \n",
        "# print  (X.head())\n",
        "# print  (y.head())\n",
        "# \n",
        "# trans = MinMaxScaler()\n",
        "# X = trans.fit_transform(X)"
      ],
      "id": "cce1dc4e-9e24-49d1-aff0-2d535265564d",
      "execution_count": null,
      "outputs": []
    },
    {
      "cell_type": "markdown",
      "metadata": {
        "id": "07770aea-6d95-4202-a1c3-034e20ce9c6f"
      },
      "source": [
        "\n",
        "### Cross-Validation\n",
        "A five fold cross validation will be performed for the better performance of the model."
      ],
      "id": "07770aea-6d95-4202-a1c3-034e20ce9c6f"
    },
    {
      "cell_type": "code",
      "metadata": {
        "colab": {
          "base_uri": "https://localhost:8080/"
        },
        "id": "03900c06-44bc-484f-a04f-fcf4ebf9471e",
        "outputId": "ddf3c8be-5d10-4310-c86c-a81479dc216c"
      },
      "source": [
        "# %pip install sklearn\n",
        "\n",
        "from sklearn.model_selection import KFold\n",
        "from sklearn.ensemble import GradientBoostingRegressor\n",
        "from sklearn.model_selection import train_test_split\n",
        "\n",
        "df = pd.read_csv('assets/Training data.csv')\n",
        "X = df.iloc[:, :-3]\n",
        "y = df.iloc[:, -1]\n",
        "\n",
        "k = 5\n",
        "kf = KFold(n_splits=k)\n",
        "scoreR2 = []\n",
        "y_pred = []\n",
        "\n",
        "# gbReg = GradientBoostingRegressor(loss = 'lad', n_estimators=1600, max_depth= 8, random_state= 44)\n",
        "gbReg = GradientBoostingRegressor(loss = 'lad', n_estimators=700, max_depth= 18, random_state= 44)\n",
        "\n",
        "for train_idx, test_idx in kf.split(X):\n",
        "#     X_train, X_test = X[train_idx, :], X[test_idx, :]\n",
        "    X_train, X_test = X.iloc[train_idx, :], X.iloc[test_idx, :]\n",
        "    y_train, y_test = y.iloc[train_idx], y.iloc[test_idx]\n",
        "    \n",
        "    gbReg.fit(X_train, y_train)\n",
        "    y_pred.extend(gbReg.predict(X_train))\n",
        "    \n",
        "    scoreR2.append(gbReg.score(X_test, y_test))\n",
        "    \n",
        "print (sum(scoreR2)/k)\n",
        "\n",
        "X_train, X_test, y_train, y_test = train_test_split(X, y, test_size=0.2, random_state=42)\n",
        "\n",
        "gbReg.fit(X_train, y_train)\n",
        "print (gbReg.score(X_test, y_test))"
      ],
      "id": "03900c06-44bc-484f-a04f-fcf4ebf9471e",
      "execution_count": 28,
      "outputs": [
        {
          "output_type": "stream",
          "text": [
            "0.8575876900175384\n",
            "0.9153343661809036\n"
          ],
          "name": "stdout"
        }
      ]
    },
    {
      "cell_type": "markdown",
      "metadata": {
        "id": "7d0a8b94-3463-4d84-8886-448708fe2b52"
      },
      "source": [
        "## Grid Search\n",
        "Hyperparameter tuning"
      ],
      "id": "7d0a8b94-3463-4d84-8886-448708fe2b52"
    },
    {
      "cell_type": "code",
      "metadata": {
        "colab": {
          "base_uri": "https://localhost:8080/",
          "height": 997
        },
        "id": "0c33fafc-61c5-4164-bc6f-7f83a798d671",
        "outputId": "c8a091aa-b2ce-4fcd-fff0-0f5ccc0c215c"
      },
      "source": [
        "# %pip install numpy\n",
        "# %pip install matplotlib\n",
        "\n",
        "from sklearn.model_selection import GridSearchCV\n",
        "import numpy as np\n",
        "from matplotlib import pyplot\n",
        "%matplotlib inline\n",
        "\n",
        "max_depth = [14, 16,18,20,22,24]\n",
        "n_estimators = [100, 400, 700, 1000]\n",
        "learning_rate = [0.09, 0.1, 0.11, 0.12]\n",
        "param_grid = dict(max_depth=max_depth, n_estimators= n_estimators)\n",
        "\n",
        "grid_search = GridSearchCV(gbReg, param_grid, scoring=\"r2\", n_jobs=-1, cv=kf)\n",
        "grid_result = grid_search.fit(X, y)\n",
        "# summarize results\n",
        "print(\"Best: %f using %s\" % (grid_result.best_score_, grid_result.best_params_))\n",
        "print (\"\\n\")\n",
        "\n",
        "means = grid_result.cv_results_['mean_test_score']\n",
        "stds = grid_result.cv_results_['std_test_score']\n",
        "params = grid_result.cv_results_['params']\n",
        "\n",
        "# Fit the best estimator \n",
        "X_train, X_test, y_train, y_test = train_test_split(X, y, test_size=0.2, random_state=42)\n",
        "\n",
        "best_model = grid_result.best_estimator_\n",
        "best_model.fit(X_train, y_train)\n",
        "print (\"The score for best estimator: \\n\")\n",
        "print (best_model.score(X_test, y_test))\n",
        "\n",
        "print (\"\\n\")\n",
        "\n",
        "for mean, stdev, param in zip(means, stds, params):\n",
        "\tprint(\"%f (%f) with: %r\" % (mean, stdev, param))\n",
        "    \n",
        "# plot results\n",
        "scores = np.array(means).reshape(len(max_depth), len(n_estimators))\n",
        "for i, value in enumerate(max_depth):\n",
        "    pyplot.plot(n_estimators, scores[i], label='max_depth: ' + str(value))\n",
        "pyplot.legend()\n",
        "pyplot.xlabel('n_estimators')\n",
        "pyplot.ylabel('R2 score')"
      ],
      "id": "0c33fafc-61c5-4164-bc6f-7f83a798d671",
      "execution_count": 24,
      "outputs": [
        {
          "output_type": "stream",
          "text": [
            "Requirement already satisfied: numpy in /usr/local/lib/python3.7/dist-packages (1.21.2)\n",
            "Requirement already satisfied: matplotlib in /usr/local/lib/python3.7/dist-packages (3.2.2)\n",
            "Requirement already satisfied: python-dateutil>=2.1 in /usr/local/lib/python3.7/dist-packages (from matplotlib) (2.8.2)\n",
            "Requirement already satisfied: numpy>=1.11 in /usr/local/lib/python3.7/dist-packages (from matplotlib) (1.21.2)\n",
            "Requirement already satisfied: pyparsing!=2.0.4,!=2.1.2,!=2.1.6,>=2.0.1 in /usr/local/lib/python3.7/dist-packages (from matplotlib) (2.4.7)\n",
            "Requirement already satisfied: cycler>=0.10 in /usr/local/lib/python3.7/dist-packages (from matplotlib) (0.10.0)\n",
            "Requirement already satisfied: kiwisolver>=1.0.1 in /usr/local/lib/python3.7/dist-packages (from matplotlib) (1.3.1)\n",
            "Requirement already satisfied: six in /usr/local/lib/python3.7/dist-packages (from cycler>=0.10->matplotlib) (1.15.0)\n",
            "Best: 0.858979 using {'max_depth': 20, 'n_estimators': 1000}\n",
            "\n",
            "\n",
            "The score for best estimator: \n",
            "\n",
            "0.9138863847605647\n",
            "\n",
            "\n",
            "0.748037 (0.082492) with: {'max_depth': 14, 'n_estimators': 100}\n",
            "0.813889 (0.083656) with: {'max_depth': 14, 'n_estimators': 400}\n",
            "0.817546 (0.081200) with: {'max_depth': 14, 'n_estimators': 700}\n",
            "0.817880 (0.080910) with: {'max_depth': 14, 'n_estimators': 1000}\n",
            "0.794467 (0.047507) with: {'max_depth': 16, 'n_estimators': 100}\n",
            "0.844090 (0.029258) with: {'max_depth': 16, 'n_estimators': 400}\n",
            "0.850788 (0.030193) with: {'max_depth': 16, 'n_estimators': 700}\n",
            "0.851002 (0.030252) with: {'max_depth': 16, 'n_estimators': 1000}\n",
            "0.803967 (0.059758) with: {'max_depth': 18, 'n_estimators': 100}\n",
            "0.851981 (0.038788) with: {'max_depth': 18, 'n_estimators': 400}\n",
            "0.857588 (0.036626) with: {'max_depth': 18, 'n_estimators': 700}\n",
            "0.857707 (0.036724) with: {'max_depth': 18, 'n_estimators': 1000}\n",
            "0.803967 (0.059758) with: {'max_depth': 20, 'n_estimators': 100}\n",
            "0.852594 (0.037929) with: {'max_depth': 20, 'n_estimators': 400}\n",
            "0.858836 (0.035907) with: {'max_depth': 20, 'n_estimators': 700}\n",
            "0.858979 (0.035800) with: {'max_depth': 20, 'n_estimators': 1000}\n",
            "0.803967 (0.059758) with: {'max_depth': 22, 'n_estimators': 100}\n",
            "0.851748 (0.038589) with: {'max_depth': 22, 'n_estimators': 400}\n",
            "0.858227 (0.036438) with: {'max_depth': 22, 'n_estimators': 700}\n",
            "0.858369 (0.036413) with: {'max_depth': 22, 'n_estimators': 1000}\n",
            "0.803967 (0.059758) with: {'max_depth': 24, 'n_estimators': 100}\n",
            "0.851748 (0.038589) with: {'max_depth': 24, 'n_estimators': 400}\n",
            "0.858227 (0.036438) with: {'max_depth': 24, 'n_estimators': 700}\n",
            "0.858369 (0.036413) with: {'max_depth': 24, 'n_estimators': 1000}\n"
          ],
          "name": "stdout"
        },
        {
          "output_type": "execute_result",
          "data": {
            "text/plain": [
              "Text(0, 0.5, 'R2 score')"
            ]
          },
          "metadata": {},
          "execution_count": 24
        },
        {
          "output_type": "display_data",
          "data": {
            "image/png": "[encoded data removed]",
            "text/plain": [
              "<Figure size 432x288 with 1 Axes>"
            ]
          },
          "metadata": {
            "needs_background": "light"
          }
        }
      ]
    },
    {
      "cell_type": "code",
      "metadata": {
        "colab": {
          "base_uri": "https://localhost:8080/",
          "height": 300
        },
        "id": "NVdRQV2p9TwE",
        "outputId": "26642c8b-eaa0-40e9-8eed-02bc17b5b097"
      },
      "source": [
        "scores = np.array(means).reshape(len(n_estimators),len(max_depth))\n",
        "for i, value in enumerate(n_estimators):\n",
        "    pyplot.plot(max_depth, scores[i], label='n_estimators: ' + str(value))\n",
        "pyplot.legend()\n",
        "pyplot.xlabel('max_depth')\n",
        "pyplot.ylabel('R2 score')\n",
        "\n",
        "'''\n",
        "    lr =0.1\n",
        "    max_depth/n_estimators= 16/1000 or 20/700 or 18/700\n",
        "'''"
      ],
      "id": "NVdRQV2p9TwE",
      "execution_count": 25,
      "outputs": [
        {
          "output_type": "execute_result",
          "data": {
            "application/vnd.google.colaboratory.intrinsic+json": {
              "type": "string"
            },
            "text/plain": [
              "'\\n    lr =0.1\\n    max_depth= 18 or 20\\n    n_estimators= 1200-1600\\n'"
            ]
          },
          "metadata": {},
          "execution_count": 25
        },
        {
          "output_type": "display_data",
          "data": {
            "image/png": "[encoded data removed]",
            "text/plain": [
              "<Figure size 432x288 with 1 Axes>"
            ]
          },
          "metadata": {
            "needs_background": "light"
          }
        }
      ]
    }
  ]
}