{
 "cells": [
  {
   "cell_type": "markdown",
   "metadata": {
    "id": "76e9a234-e8d2-4c06-bc62-3fcfaba7b642"
   },
   "source": [
    "## Introduction\n",
    "Where did data come from?\n",
    "\n",
    "The material id needs to be prepended by \"mp-\". The job is performed below"
   ]
  },
  {
   "cell_type": "code",
   "execution_count": 1,
   "metadata": {
    "id": "zwdUed_ccjQt"
   },
   "outputs": [],
   "source": [
    "# from google.colab import drive\n",
    "# drive.mount('/content/drive')"
   ]
  },
  {
   "cell_type": "code",
   "execution_count": 2,
   "metadata": {
    "id": "1ff8be58-9ef0-4180-97fe-af8210c01cff",
    "tags": []
   },
   "outputs": [],
   "source": [
    "# import os\n",
    "# import sys\n",
    "# module_path = os.path.abspath(os.path.join(''))\n",
    "# if module_path not in sys.path:\n",
    "#     sys.path.append(module_path)\n",
    "    \n",
    "# print (module_path)\n",
    "\n",
    "# from utils.editdf import EditFile \n",
    "\n",
    "# ed = EditFile()\n",
    "# ed.generateFile('assets/HalfHeusler.csv', 'assets/Heusler compound.csv')\n",
    "\n",
    "import warnings\n",
    "warnings.filterwarnings('ignore')\n",
    "warnings.simplefilter('ignore')\n",
    "\n",
    "# %pip install pymatgen\n",
    "# %pip install sklearn\n",
    "# %pip install --upgrade tensorflow\n",
    "# %pip install keras\n",
    "\n",
    "import os.path\n",
    "import pandas as pd\n",
    "\n",
    "# import pymatgen.core as pg\n",
    "# from pymatgen.ext.matproj import MPRester\n",
    "from math import sqrt\n",
    "import sys\n",
    "\n",
    "from sklearn.preprocessing import MinMaxScaler\n",
    "from sklearn.preprocessing import StandardScaler\n",
    "\n",
    "from sklearn.model_selection import train_test_split\n",
    "from tensorflow import keras\n",
    "import tensorflow as tf\n",
    "from sklearn.model_selection import GridSearchCV\n",
    "from sklearn.model_selection import KFold\n",
    "from sklearn.ensemble import GradientBoostingRegressor\n",
    "\n",
    "import numpy as np\n",
    "from matplotlib import pyplot as plt\n",
    "%matplotlib inline\n",
    "\n",
    "# dirPath= 'drive/Mydrive/'\n",
    "dirPath= 'assets/'\n",
    "# dirPath= '../input/assets/'"
   ]
  },
  {
   "cell_type": "code",
   "execution_count": 3,
   "metadata": {
    "id": "6414f1e1-9f8a-4548-a684-0d471d7413f6"
   },
   "outputs": [],
   "source": [
    "path_to_file = dirPath + 'HalfHeusler.csv'\n",
    "file_name = dirPath + 'Heusler compound.csv'\n",
    "\n",
    "if (not os.path.exists(file_name)):\n",
    "    print (\"A formatted csv file is produced\\n\")\n",
    "    df = pd.read_csv(path_to_file)\n",
    "    print (df.head())\n",
    "\n",
    "    id_list = df['Materials-ID'].to_list()\n",
    "\n",
    "    n = df.columns[0]\n",
    "    df.drop(n, axis=1, inplace=True)\n",
    "\n",
    "    df[n] = [\"mp-\" + str(x) for x in id_list]\n",
    "    print (df.head())\n",
    "\n",
    "    df.to_csv(file_name, index = False)"
   ]
  },
  {
   "cell_type": "markdown",
   "metadata": {
    "id": "a7ed94a0-6557-417a-b694-03f5d24d26f7"
   },
   "source": [
    "- Lattice parameters, atomic radii and atomic masses. The atomic radius is calculated value and not the empirical values\n",
    "- Python library 'pymatgen'"
   ]
  },
  {
   "cell_type": "code",
   "execution_count": 4,
   "metadata": {
    "id": "83bd3313-ef63-4c79-9d93-9bf56c5f4a74"
   },
   "outputs": [],
   "source": [
    "'''\n",
    "The Element class is located in the core subpakage inside the periodic_table module. \n",
    "The link to the API documentation is below.\n",
    "\n",
    "    https://pymatgen.org/pymatgen.core.periodic_table.html#pymatgen.core.periodic_table.Element\n",
    "\n",
    "Similarly the material project APIs are hosted in the following module.\n",
    "\n",
    "    https://pymatgen.org/pymatgen.ext.matproj.html?highlight=mprester#module-pymatgen.ext.matproj\n",
    "'''\n",
    "\n",
    "file_name_train = dirPath + 'Training data.csv'\n",
    "\n",
    "if (not os.path.exists(file_name_train)):\n",
    "    print (\"Training data will be generated\\n\")\n",
    "\n",
    "    heusler_df = pd.read_csv(file_name, header=0, usecols= ['Materials-ID', '4a-site', '4b-site', '4c-site'])\n",
    "    data = []\n",
    "\n",
    "    m = MPRester('fmdc9tZK1xE74JOq')\n",
    "    for idx in heusler_df.index:\n",
    "        mat_data = m.get_data(heusler_df['Materials-ID'][idx])\n",
    "        lat = m.get_structure_by_material_id(heusler_df['Materials-ID'][idx])\n",
    "        \n",
    "        lat_const = lat.lattice.abc\n",
    "        mag_moment = sum(lat.site_properties['magmom'])\n",
    "        \n",
    "        e1 = pg.Element(heusler_df['4a-site'][idx])\n",
    "        e2 = pg.Element(heusler_df['4b-site'][idx])\n",
    "        e3 = pg.Element(heusler_df['4c-site'][idx])\n",
    "\n",
    "        x1 = e1.atomic_radius\n",
    "        x2 = e2.atomic_radius\n",
    "        x3 = e3.atomic_radius\n",
    "        m1 = e1.atomic_mass\n",
    "        m2 = e2.atomic_mass\n",
    "        m3 = e3.atomic_mass\n",
    "        \n",
    "        \n",
    "        x29 = m1+m2+m3\n",
    "        x30 = x1+x2+x3\n",
    "        x33 = (x29/3 -m1)\n",
    "        x34 = (x29/3 -m2)\n",
    "        x35 = (x29/3 -m3)\n",
    "        x42 = (x30/3 -x1)\n",
    "        x43 = (x30/3 -x2)\n",
    "        x44 = (x30/3 -x3)\n",
    "        x51 = (x1**2 + x2**2)\n",
    "        x52 = (x1**2 + x3**2)\n",
    "            \n",
    "        data.append((x1,x2,x3,m1,m2,m3,m1**2,m2**2,m3**2,x1**2,x2**2,x3**2,\n",
    "                     m1**3,m2**3,m3**3,x1**3,x2**3,x3**3,\n",
    "                     sqrt(m1),sqrt(m2),sqrt(m3),sqrt(x1),sqrt(x2),sqrt(x3),\n",
    "                     m2/m1, x3/m1, x2/x1,x3/x1, x29,x30,\n",
    "                     ((m1**2+m2**2+m3**2)/3.)**2, ((x1**2+x2**2+x3**2)/3.)**2,\n",
    "                     x33, x34, x35, abs(x33), abs(x34), abs(x35), x33**2, x34**2, x35**2,\n",
    "                     x42, x43, x44, abs(x42), abs(x43), abs(x44), x42**2, x43**2, x44**2,\n",
    "                     x51, x52,sqrt(x51), sqrt(x52), \n",
    "                     mat_data[0][\"formation_energy_per_atom\"], # mag_moment,\n",
    "                     lat_const[0], lat_const[1], lat_const[2]\n",
    "                    ))\n",
    "\n",
    "    idx = []\n",
    "    for i in range(1, 55):\n",
    "        idx.append('x'+str(i))\n",
    "\n",
    "#     idx.extend(['form_energy_per_atom', 'total_magnetic_moment','a', 'b', 'c'])\n",
    "    idx.extend(['form_energy_per_atom','a', 'b', 'c'])\n",
    "    df_train = pd.DataFrame(data, columns = idx)\n",
    "\n",
    "    df_train.to_csv(file_name_train, index = False)"
   ]
  },
  {
   "cell_type": "markdown",
   "metadata": {
    "id": "d8b0b11a-42ea-4618-97e2-168a11042613"
   },
   "source": [
    "## Machine Learning\n",
    "The gradient boosted trees are selected for the regression task. The cross-validation is the first step.\n"
   ]
  },
  {
   "cell_type": "markdown",
   "metadata": {
    "id": "07770aea-6d95-4202-a1c3-034e20ce9c6f"
   },
   "source": [
    "\n",
    "### Cross-Validation\n",
    "A five fold cross validation will be performed for the better performance of the model."
   ]
  },
  {
   "cell_type": "code",
   "execution_count": 5,
   "metadata": {
    "id": "03900c06-44bc-484f-a04f-fcf4ebf9471e"
   },
   "outputs": [
    {
     "name": "stdout",
     "output_type": "stream",
     "text": [
      "0.9279334973474889\n",
      "0.9582280939426462\n"
     ]
    }
   ],
   "source": [
    "# The seed is required for replication of results. Parameters defined.\n",
    "seed = 44\n",
    "n_cols = 7\n",
    "out_nodes = 1\n",
    "\n",
    "df = pd.read_csv(dirPath + 'Training data.csv', usecols= ['x1', 'x2', 'x3','x4', 'x5', 'x6','form_energy_per_atom', 'a'])\n",
    "# df = pd.read_csv(dirPath + 'Training data.csv')\n",
    "\n",
    "X = df.iloc[:, :n_cols]\n",
    "y = df.iloc[:, -1*out_nodes]\n",
    "\n",
    "k = 5\n",
    "kf = KFold(n_splits=k)\n",
    "scoreR2 = []\n",
    "y_pred = []\n",
    "\n",
    "gbReg = GradientBoostingRegressor(n_estimators=600, max_depth= 1, random_state= seed)\n",
    "\n",
    "for train_idx, test_idx in kf.split(X):\n",
    "    X_train, X_test = X.iloc[train_idx, :], X.iloc[test_idx, :]\n",
    "    y_train, y_test = y.iloc[train_idx], y.iloc[test_idx]\n",
    "    \n",
    "    gbReg.fit(X_train, y_train)\n",
    "    y_pred.extend(gbReg.predict(X_train))\n",
    "    \n",
    "    scoreR2.append(gbReg.score(X_test, y_test))\n",
    "    \n",
    "print (sum(scoreR2)/k)\n",
    "\n",
    "X_train, X_test, y_train, y_test = train_test_split(X, y, test_size=0.2, random_state=42)\n",
    "\n",
    "gbReg.fit(X_train, y_train)\n",
    "print (gbReg.score(X_test, y_test))"
   ]
  },
  {
   "cell_type": "markdown",
   "metadata": {
    "id": "7d0a8b94-3463-4d84-8886-448708fe2b52"
   },
   "source": [
    "## Grid Search\n",
    "Hyperparameter tuning"
   ]
  },
  {
   "cell_type": "code",
   "execution_count": 6,
   "metadata": {
    "id": "0c33fafc-61c5-4164-bc6f-7f83a798d671"
   },
   "outputs": [
    {
     "name": "stdout",
     "output_type": "stream",
     "text": [
      "Best: 0.927933 using {'max_depth': 1, 'n_estimators': 600}\n",
      "\n",
      "\n",
      "The score for best estimator: \n",
      "\n",
      "0.9582280939426462\n",
      "\n",
      "\n",
      "0.918090 (0.044480) with: {'max_depth': 1, 'n_estimators': 150}\n",
      "0.921782 (0.040665) with: {'max_depth': 1, 'n_estimators': 200}\n",
      "0.923378 (0.038988) with: {'max_depth': 1, 'n_estimators': 250}\n",
      "0.923706 (0.038860) with: {'max_depth': 1, 'n_estimators': 260}\n",
      "0.923763 (0.038700) with: {'max_depth': 1, 'n_estimators': 265}\n",
      "0.923892 (0.038916) with: {'max_depth': 1, 'n_estimators': 270}\n",
      "0.924085 (0.038689) with: {'max_depth': 1, 'n_estimators': 275}\n",
      "0.924542 (0.038236) with: {'max_depth': 1, 'n_estimators': 300}\n",
      "0.925220 (0.037334) with: {'max_depth': 1, 'n_estimators': 325}\n",
      "0.927933 (0.033782) with: {'max_depth': 1, 'n_estimators': 600}\n",
      "0.927878 (0.033677) with: {'max_depth': 1, 'n_estimators': 625}\n",
      "0.927724 (0.033865) with: {'max_depth': 1, 'n_estimators': 650}\n",
      "0.927031 (0.033664) with: {'max_depth': 1, 'n_estimators': 900}\n",
      "0.903469 (0.059388) with: {'max_depth': 2, 'n_estimators': 150}\n",
      "0.903784 (0.060510) with: {'max_depth': 2, 'n_estimators': 200}\n",
      "0.903261 (0.061606) with: {'max_depth': 2, 'n_estimators': 250}\n",
      "0.903473 (0.061683) with: {'max_depth': 2, 'n_estimators': 260}\n",
      "0.903639 (0.061780) with: {'max_depth': 2, 'n_estimators': 265}\n",
      "0.903580 (0.061687) with: {'max_depth': 2, 'n_estimators': 270}\n",
      "0.903651 (0.061434) with: {'max_depth': 2, 'n_estimators': 275}\n",
      "0.903902 (0.061756) with: {'max_depth': 2, 'n_estimators': 300}\n",
      "0.904126 (0.061470) with: {'max_depth': 2, 'n_estimators': 325}\n",
      "0.902792 (0.062633) with: {'max_depth': 2, 'n_estimators': 600}\n",
      "0.902635 (0.062830) with: {'max_depth': 2, 'n_estimators': 625}\n",
      "0.902534 (0.062867) with: {'max_depth': 2, 'n_estimators': 650}\n",
      "0.902098 (0.063242) with: {'max_depth': 2, 'n_estimators': 900}\n",
      "0.905954 (0.088034) with: {'max_depth': 3, 'n_estimators': 150}\n",
      "0.906711 (0.086369) with: {'max_depth': 3, 'n_estimators': 200}\n",
      "0.906906 (0.086344) with: {'max_depth': 3, 'n_estimators': 250}\n",
      "0.906950 (0.086396) with: {'max_depth': 3, 'n_estimators': 260}\n",
      "0.906991 (0.086261) with: {'max_depth': 3, 'n_estimators': 265}\n",
      "0.907013 (0.086210) with: {'max_depth': 3, 'n_estimators': 270}\n",
      "0.906998 (0.086193) with: {'max_depth': 3, 'n_estimators': 275}\n",
      "0.906901 (0.085983) with: {'max_depth': 3, 'n_estimators': 300}\n",
      "0.906935 (0.085860) with: {'max_depth': 3, 'n_estimators': 325}\n",
      "0.906783 (0.085721) with: {'max_depth': 3, 'n_estimators': 600}\n",
      "0.906773 (0.085722) with: {'max_depth': 3, 'n_estimators': 625}\n",
      "0.906768 (0.085738) with: {'max_depth': 3, 'n_estimators': 650}\n",
      "0.906742 (0.085707) with: {'max_depth': 3, 'n_estimators': 900}\n"
     ]
    },
    {
     "data": {
      "text/plain": [
       "Text(0, 0.5, 'R2 score')"
      ]
     },
     "execution_count": 6,
     "metadata": {},
     "output_type": "execute_result"
    },
    {
     "data": {
      "image/png": "[encoded data removed]",
      "text/plain": [
       "<Figure size 432x288 with 1 Axes>"
      ]
     },
     "metadata": {
      "needs_background": "light"
     },
     "output_type": "display_data"
    }
   ],
   "source": [
    "max_depth = [1, 2, 3]\n",
    "n_estimators = [150, 200,250, 260, 265, 270, 275, 300, 325,600, 625, 650, 900]\n",
    "# max_depth = [1,2]\n",
    "# n_estimators = [325,600, 625, 650, 900]\n",
    "param_grid = dict(max_depth=max_depth, n_estimators= n_estimators)\n",
    "\n",
    "grid_search = GridSearchCV(gbReg, param_grid, scoring=\"r2\", n_jobs=-1, cv=kf)\n",
    "grid_result = grid_search.fit(X, y)\n",
    "# summarize results\n",
    "print(\"Best: %f using %s\" % (grid_result.best_score_, grid_result.best_params_))\n",
    "print (\"\\n\")\n",
    "\n",
    "means = grid_result.cv_results_['mean_test_score']\n",
    "stds = grid_result.cv_results_['std_test_score']\n",
    "params = grid_result.cv_results_['params']\n",
    "\n",
    "best_model = grid_result.best_estimator_\n",
    "best_model.fit(X_train, y_train)\n",
    "print (\"The score for best estimator: \\n\")\n",
    "print (best_model.score(X_test, y_test))\n",
    "\n",
    "print (\"\\n\")\n",
    "\n",
    "for mean, stdev, param in zip(means, stds, params):\n",
    "\tprint(\"%f (%f) with: %r\" % (mean, stdev, param))\n",
    "    \n",
    "# plot results\n",
    "scores = np.array(means).reshape(len(max_depth), len(n_estimators))\n",
    "for i, value in enumerate(max_depth):\n",
    "    plt.plot(n_estimators, scores[i], label='max_depth: ' + str(value))\n",
    "plt.legend()\n",
    "plt.xlabel('n_estimators')\n",
    "plt.ylabel('R2 score')"
   ]
  },
  {
   "cell_type": "code",
   "execution_count": 7,
   "metadata": {
    "id": "NVdRQV2p9TwE"
   },
   "outputs": [
    {
     "data": {
      "text/plain": [
       "'\\n    lr =0.1\\n    max_depth/n_estimators= 1/625 or 3/270\\n'"
      ]
     },
     "execution_count": 7,
     "metadata": {},
     "output_type": "execute_result"
    },
    {
     "data": {
      "image/png": "[encoded data removed]",
      "text/plain": [
       "<Figure size 432x288 with 1 Axes>"
      ]
     },
     "metadata": {
      "needs_background": "light"
     },
     "output_type": "display_data"
    }
   ],
   "source": [
    "scores = np.array(means).reshape(len(max_depth), len(n_estimators))\n",
    "for i, value in enumerate(n_estimators):\n",
    "    if i%3 ==0:\n",
    "        plt.plot(max_depth, scores[:, i], label='n_estimators: ' + str(value))\n",
    "\n",
    "plt.legend()\n",
    "plt.xlabel('max_depth')\n",
    "plt.ylabel('R2 score')\n",
    "\n",
    "'''\n",
    "    lr =0.1\n",
    "    max_depth/n_estimators= 1/625 or 3/270\n",
    "'''"
   ]
  },
  {
   "cell_type": "markdown",
   "metadata": {
    "id": "C9isIYEPJ5sy"
   },
   "source": [
    "## Neural Network \n",
    "\n",
    "The Boosted Trees performed very well. It was on par with the published paper. A juxtaposition with an artificial neural network would be interesting. The latter must me a better choice. \n",
    "\n",
    "ANN is easy to build especially after the introduction of Keras module in Tensorflow. \n",
    "\n",
    "### Scaling\n",
    "Use MinMaxScaler"
   ]
  },
  {
   "cell_type": "code",
   "execution_count": 8,
   "metadata": {
    "id": "cce1dc4e-9e24-49d1-aff0-2d535265564d",
    "tags": []
   },
   "outputs": [
    {
     "name": "stdout",
     "output_type": "stream",
     "text": [
      "[[0.47826087 0.39130435 0.47619048 0.16450411 0.51119424 0.93937595\n",
      "  0.42391072]\n",
      " [0.34782609 0.2173913  0.23809524 0.         0.01449321 0.08717037\n",
      "  0.88707022]\n",
      " [0.47826087 0.39130435 0.47619048 0.16450411 0.5277097  0.24162358\n",
      "  0.25902818]\n",
      " [0.60869565 0.39130435 0.47619048 0.70100253 0.51119424 0.93937595\n",
      "  0.36355118]\n",
      " [0.39130435 0.39130435 0.47619048 0.07514024 0.5277097  0.26611071\n",
      "  0.76962006]]\n",
      "\n",
      "0    4.611608\n",
      "1    4.199121\n",
      "2    4.320950\n",
      "3    4.726488\n",
      "4    4.412778\n",
      "Name: a, dtype: float64\n",
      "\n",
      "[[0.7826087  0.43478261 1.         0.57105744 0.         0.97680217\n",
      "  0.96105767]\n",
      " [0.34782609 0.69565217 0.28571429 0.         0.08540932 0.32351412\n",
      "  0.25353922]\n",
      " [0.30434783 0.39130435 0.47619048 0.17710143 0.51119424 0.92987616\n",
      "  0.37119483]\n",
      " [0.69565217 0.52173913 0.52380952 0.59415051 1.         0.48246097\n",
      "  0.27326742]\n",
      " [0.30434783 0.34782609 0.42857143 0.17710143 0.55933275 0.45546386\n",
      "  0.56535306]]\n",
      "[[ 0.65217391  0.39130435  0.47619048  0.65044078  0.5277097   0.24162358\n",
      "   0.26842053]\n",
      " [ 0.65217391  0.39130435  0.19047619  0.06944876  0.5277097  -0.00907717\n",
      "   0.96660311]\n",
      " [ 0.43478261  0.39130435  0.52380952  0.36472267  0.51119424  0.48246097\n",
      "   0.40483645]\n",
      " [ 0.34782609  0.47826087  0.28571429  0.          0.47708574  0.32351412\n",
      "   0.65323572]\n",
      " [ 0.95652174  0.69565217  0.57142857  0.56422683 -0.00712185  0.55986949\n",
      "   0.47285744]]\n"
     ]
    }
   ],
   "source": [
    "# The seed is required for replication of results. Parameters defined.\n",
    "seed = 1111\n",
    "n_cols = 7\n",
    "out_nodes = 1\n",
    "\n",
    "df = pd.read_csv(dirPath + 'Training data.csv', usecols= ['x1', 'x2', 'x3','x4', 'x5', 'x6','form_energy_per_atom', 'a'])\n",
    "# df = pd.read_csv(dirPath + 'Training data.csv')\n",
    "\n",
    "X = df.iloc[:, :n_cols]\n",
    "y = df.iloc[:, -1*out_nodes]\n",
    "\n",
    "X_train, X_test, y_train, y_test = train_test_split(X, y, test_size=0.2, random_state=seed)\n",
    "\n",
    "trans = MinMaxScaler()\n",
    "# trans = StandardScaler()\n",
    "trans.fit(X_train)\n",
    "X_train_scaled = trans.transform(X_train)\n",
    "X_test_scaled = trans.transform(X_test)\n",
    "X_scaled = trans.transform(X)\n",
    "\n",
    "print (X_scaled[:5,:])\n",
    "print (\"\")\n",
    "print (y.head())\n",
    "print (\"\")\n",
    "print (X_train_scaled[:5,:])\n",
    "print (X_test_scaled[:5,:])\n"
   ]
  },
  {
   "cell_type": "markdown",
   "metadata": {
    "id": "Eyep75Fw2LnK"
   },
   "source": [
    "## The parameters\n",
    "\n",
    "#### 6,4500-4800 best so far for epoch 2000-2500\n",
    "\n",
    "(2, 600)/({nl-3, nn-800/nn-600, ep-2000}: 0.89)\n",
    "\n",
    "({nl-5, nn-3200, ep-1700}: 0.87)\n",
    "\n",
    "({nl-5, nn-3500, ep-1800}: 0.906)\n",
    "\n",
    "5, 2500-3500 epochs 500\n",
    "\n",
    "7, 2500 by GridSearchCV in kaggle\n",
    "3, 1200 for one column output for epoch 850"
   ]
  },
  {
   "cell_type": "code",
   "execution_count": 9,
   "metadata": {
    "id": "0df9mMKWKL-A",
    "tags": []
   },
   "outputs": [],
   "source": [
    "from tensorflow.keras import backend as K\n",
    "from tensorflow.keras.callbacks import ModelCheckpoint\n",
    "\n",
    "# tolerance_value = 90\n",
    "\n",
    "# checkpoint\n",
    "filepath=\"model-single-out.best.hdf5\"\n",
    "checkpoint = ModelCheckpoint(filepath, monitor='val_r_square', verbose=1, \n",
    "                             save_best_only=True, mode='max')\n",
    "# earlyStop = keras.callbacks.EarlyStopping(monitor='val_loss', patience=tolerance_value)\n",
    "\n",
    "callbacks_list = [checkpoint]\n",
    "\n",
    "# coefficient of determination (R^2) for regression  (only for Keras tensors)\n",
    "def r_square(y_true, y_pred):\n",
    "    SS_res =  K.sum(K.square(y_true - y_pred)) \n",
    "    SS_tot = K.sum(K.square(y_true - K.mean(y_true))) \n",
    "    return ( 1 - SS_res/SS_tot + K.epsilon())\n"
   ]
  },
  {
   "cell_type": "code",
   "execution_count": 10,
   "metadata": {
    "id": "QPr_BQzzZlC8",
    "tags": []
   },
   "outputs": [],
   "source": [
    "# n_epochs = 2500\n",
    "# layers = 6\n",
    "# neural_nodes = 4700\n",
    "\n",
    "# def build_model(n_hidden=layers, n_neurons=neural_nodes, learning_rate=1e-4, input_shape=[n_cols,]):\n",
    "#     model = keras.Sequential()\n",
    "#     model.add(keras.layers.InputLayer(input_shape=input_shape))\n",
    "#     for layer in range(n_hidden):\n",
    "#         model.add(keras.layers.Dense(n_neurons, activation=\"sigmoid\"))\n",
    "#     model.add(keras.layers.Dense(out_nodes))\n",
    "\n",
    "#     model.compile(loss='mean_squared_error', optimizer=keras.optimizers.Adam(lr=learning_rate), metrics=[r_square])\n",
    "\n",
    "#     return model\n",
    "\n",
    "# # The wrapper is neccessary for GridSearch later in this notebook\n",
    "# keras_reg = keras.wrappers.scikit_learn.KerasRegressor(build_model)\n",
    "\n",
    "# # The history dictionary is useful for 'loss' plot of the model. In this case, the 'loss' is mean absolute error \n",
    "# history = keras_reg.fit(X_train_scaled, y_train, epochs=n_epochs,validation_data=(X_test_scaled, y_test),\n",
    "#                         callbacks=callbacks_list)\n",
    "\n",
    "# # Test on the holdout data\n",
    "# mse_test = keras_reg.score(X_test_scaled, y_test)\n",
    "# y_pred = keras_reg.predict(X_test_scaled)\n",
    "\n",
    "# plt.figure()\n",
    "# plt.plot(history.history['r_square'])\n",
    "# plt.plot(history.history['val_r_square'])\n",
    "# plt.ylim(0.85,1)\n",
    "# plt.xlim(250)\n",
    "# plt.title(\"Model co-efficient of determination\")\n",
    "# plt.ylabel(\"R-squared score\")\n",
    "# plt.xlabel(\"Epoch\")\n",
    "# plt.legend([\"Train\", \"Test\"])\n",
    "# plt.show()\n",
    "\n",
    "# # print (\"\\n The predicted values (Lattice constants)\")\n",
    "# print (y_pred)\n",
    "# print (\"\\n The mean square error (MSE)\")\n",
    "# print (mse_test)\n",
    "# print (\"\\n The R-square metric is\")\n",
    "# print (r_square(tf.convert_to_tensor(value=y_test.values, dtype='float32'), y_pred).numpy())"
   ]
  },
  {
   "cell_type": "code",
   "execution_count": 11,
   "metadata": {
    "id": "AytK8dg82LnL"
   },
   "outputs": [
    {
     "name": "stdout",
     "output_type": "stream",
     "text": [
      "r_square: 0.95\n",
      "\n",
      " The predicted values (Lattice constants)\n",
      "[[4.58301  ]\n",
      " [4.4463677]\n",
      " [4.4604726]\n",
      " [4.3481803]\n",
      " [5.278279 ]\n",
      " [4.447469 ]\n",
      " [5.5456147]\n",
      " [4.8476853]\n",
      " [4.8865094]\n",
      " [4.615806 ]\n",
      " [4.6911206]\n",
      " [4.3739886]\n",
      " [4.7683463]\n",
      " [4.6052165]\n",
      " [4.380063 ]\n",
      " [4.7447453]\n",
      " [4.350493 ]\n",
      " [4.3070564]\n",
      " [4.7059083]\n",
      " [4.3118405]\n",
      " [4.6909065]\n",
      " [4.7458844]\n",
      " [3.7161393]\n",
      " [4.521354 ]\n",
      " [4.744876 ]\n",
      " [5.032394 ]\n",
      " [4.3046393]\n",
      " [4.8820043]\n",
      " [4.770438 ]]\n",
      "\n",
      " The mean square error (MSE)\n",
      "0.007369427394106579\n",
      "\n",
      " The R-square metric is\n",
      "0.9450786926806061\n"
     ]
    }
   ],
   "source": [
    "from tensorflow.keras.models import load_model\n",
    "from sklearn.metrics import r2_score, mean_squared_error\n",
    "\n",
    "# model = keras.Sequential()\n",
    "# model.add(keras.layers.InputLayer(input_shape=[n_cols,]))\n",
    "\n",
    "# for layer in range(layers):\n",
    "#     model.add(keras.layers.Dense(neural_nodes, activation=\"sigmoid\"))\n",
    "\n",
    "# model.add(keras.layers.Dense(out_nodes))\n",
    "# model.load_weights(filepath)\n",
    "# model.compile(loss='mean_squared_error', optimizer=keras.optimizers.Adam(lr=lr), metrics=[r_square])\n",
    "\n",
    "filepath=\"model-single-out.best.hdf5\"\n",
    "model = load_model(filepath, compile= False)\n",
    "model.compile(loss='mean_squared_error', optimizer=keras.optimizers.Adam(lr=1e-4), metrics=[r_square])\n",
    "\n",
    "# Test on the holdout data\n",
    "scores = model.evaluate(X_test_scaled, y_test, verbose=0)\n",
    "print(\"%s: %.2f\" % (model.metrics_names[1], scores[1]))\n",
    "y_pred = model.predict(X_test_scaled)\n",
    "\n",
    "print (\"\\n The predicted values (Lattice constants)\")\n",
    "print (y_pred)\n",
    "print (\"\\n The mean square error (MSE)\")\n",
    "print (mean_squared_error(y_test.values, y_pred))\n",
    "print (\"\\n The R-square metric is\")\n",
    "print (r2_score(y_test.values, y_pred))\n"
   ]
  },
  {
   "cell_type": "markdown",
   "metadata": {
    "id": "rH1XkCwTvSIo"
   },
   "source": [
    "## Grid Search\n",
    "\n",
    "The hyperparamter tuning for NN."
   ]
  },
  {
   "cell_type": "code",
   "execution_count": 12,
   "metadata": {
    "id": "ThABmFyXvXYu"
   },
   "outputs": [],
   "source": [
    "# # tolerance_value = 50\n",
    "# from sklearn.metrics import make_scorer\n",
    "\n",
    "# # coefficient of determination (R^2) for regression  (only for Keras tensors)\n",
    "# def r_square(y_true, y_pred):\n",
    "# #     y_true = tf.convert_to_tensor(value=y_true, dtype='float32')\n",
    "   \n",
    "#     SS_res =  K.sum(K.square(y_true - y_pred)) \n",
    "#     SS_tot = K.sum(K.square(y_true - K.mean(y_true)))\n",
    "#     return (1 - SS_res/(SS_tot + K.epsilon())).numpy()\n",
    "\n",
    "# param_distribs = {\n",
    "# #     \"n_hidden\": [4, 5, 6, 7, 8],\n",
    "# #     \"n_neurons\": [1500, 2000, 2500, 3000, 3500, 4000],\n",
    "#     \"n_hidden\": [5],\n",
    "#     \"n_neurons\": [2500, 3000, 3500, 4000],\n",
    "# }\n",
    "\n",
    "# search_cv = GridSearchCV(estimator= keras_reg,\n",
    "#                          param_grid= param_distribs, \n",
    "#                          cv= 4,\n",
    "#                          scoring =make_scorer(r_square))\n",
    "\n",
    "# grid_result = search_cv.fit(X_scaled, y.to_numpy())\n",
    "# #                 validation_data=(X_test_scaled, y_test),\n",
    "#                 # callbacks=[keras.callbacks.EarlyStopping(monitor='loss', patience=tolerance_value)])\n",
    "\n",
    "# print(\"Best: %f using %s\" % (grid_result.best_score_, grid_result.best_params_))\n",
    "# means = grid_result.cv_results_['mean_test_score']\n",
    "# stds = grid_result.cv_results_['std_test_score']\n",
    "# params = grid_result.cv_results_['params']\n",
    "\n",
    "# for mean, stdev, param in zip(means, stds, params):\n",
    "#     print(\"mean: %f, std: (%f) parameters: %r\" % (mean, stdev, param))"
   ]
  },
  {
   "cell_type": "code",
   "execution_count": 13,
   "metadata": {
    "id": "8UoimM0Ev7je"
   },
   "outputs": [],
   "source": [
    "# best_model = grid_result.best_estimator_\n",
    "\n",
    "# print (\"\\nHistory object\\n\")\n",
    "# best_model_history = best_model.fit(X_train_scaled, y_train, epochs=n_epochs,\n",
    "#               validation_data=(X_test_scaled, y_test),\n",
    "#               callbacks=[keras.callbacks.EarlyStopping(patience=tolerance_value)])\n",
    "\n",
    "# y_pred = best_model.predict(X_test)              \n",
    "\n",
    "# plt.figure()\n",
    "# plt.plot(best_model_history.history['loss'])\n",
    "# plt.plot(best_model_history.history['val_loss'])\n",
    "# plt.title(\"Model loss\")\n",
    "# plt.ylabel(\"Mean Square Error (MSE) - Loss\")\n",
    "# plt.xlabel(\"Epoch\")\n",
    "# plt.legend([\"Train\", \"Test\"])\n",
    "# plt.show()\n",
    "\n",
    "# print (\"\\n Best Model's Parameters\")\n",
    "# print (best_model.get_params())\n",
    "# print (\"\\n The mean square error (MSE)\")\n",
    "# print (best_model.score(X_test, y_test))\n",
    "# print (\"\\n The R-square metric is\")\n",
    "# print (r_square(tf.convert_to_tensor(value=y_test.values, dtype='float32'), y_pred))\n",
    "# print (\"\\n The predicted values (Lattice constants)\")\n",
    "# print (y_pred)"
   ]
  },
  {
   "cell_type": "code",
   "execution_count": 14,
   "metadata": {
    "id": "OaNgeZSe2LnM"
   },
   "outputs": [],
   "source": [
    "# from google.colab import files\n",
    "# files.download('example.txt') "
   ]
  },
  {
   "cell_type": "code",
   "execution_count": 15,
   "metadata": {},
   "outputs": [],
   "source": [
    "# %cd /kaggle/working\n",
    "\n",
    "# from IPython.display import FileLink\n",
    "# FileLink(r'weights-single-out.best.hdf5')"
   ]
  }
 ],
 "metadata": {
  "kernelspec": {
   "display_name": "Python 3",
   "language": "python",
   "name": "python3"
  },
  "language_info": {
   "codemirror_mode": {
    "name": "ipython",
    "version": 3
   },
   "file_extension": ".py",
   "mimetype": "text/x-python",
   "name": "python",
   "nbconvert_exporter": "python",
   "pygments_lexer": "ipython3",
   "version": "3.9.6"
  }
 },
 "nbformat": 4,
 "nbformat_minor": 4
}
