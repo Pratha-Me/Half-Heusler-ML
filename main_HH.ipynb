{
  "nbformat": 4,
  "nbformat_minor": 0,
  "metadata": {
    "kernelspec": {
      "display_name": "Python 3",
      "language": "python",
      "name": "python3"
    },
    "language_info": {
      "codemirror_mode": {
        "name": "ipython",
        "version": 3
      },
      "file_extension": ".py",
      "mimetype": "text/x-python",
      "name": "python",
      "nbconvert_exporter": "python",
      "pygments_lexer": "ipython3",
      "version": "3.9.6"
    },
    "colab": {
      "name": "notebooke52013c135.ipynb",
      "provenance": []
    }
  },
  "cells": [
    {
      "cell_type": "markdown",
      "metadata": {
        "id": "76e9a234-e8d2-4c06-bc62-3fcfaba7b642"
      },
      "source": [
        "## Introduction\n",
        "Where did data come from?\n",
        "\n",
        "The material id needs to be prepended by \"mp-\". The job is performed below"
      ]
    },
    {
      "cell_type": "code",
      "metadata": {
        "id": "zwdUed_ccjQt"
      },
      "source": [
        "from google.colab import drive\n",
        "drive.mount('/content/drive')"
      ],
      "execution_count": null,
      "outputs": []
    },
    {
      "cell_type": "code",
      "metadata": {
        "id": "1ff8be58-9ef0-4180-97fe-af8210c01cff"
      },
      "source": [
        "# import os\n",
        "# import sys\n",
        "# module_path = os.path.abspath(os.path.join(''))\n",
        "# if module_path not in sys.path:\n",
        "#     sys.path.append(module_path)\n",
        "    \n",
        "# print (module_path)\n",
        "\n",
        "# from utils.editdf import EditFile \n",
        "\n",
        "# ed = EditFile()\n",
        "# ed.generateFile('assets/HalfHeusler.csv', 'assets/Heusler compound.csv')\n",
        "\n",
        "import warnings\n",
        "warnings.filterwarnings('ignore')\n",
        "warnings.simplefilter('ignore')\n",
        "\n",
        "# %pip install pymatgen\n",
        "# %pip install sklearn\n",
        "# %pip install --upgrade tensorflow\n",
        "# %pip install keras\n",
        "\n",
        "import os.path\n",
        "import pandas as pd\n",
        "\n",
        "# import pymatgen.core as pg\n",
        "# from pymatgen.ext.matproj import MPRester\n",
        "from math import sqrt\n",
        "import sys\n",
        "\n",
        "from sklearn.preprocessing import MinMaxScaler\n",
        "from sklearn.preprocessing import StandardScaler\n",
        "\n",
        "from sklearn.model_selection import train_test_split\n",
        "from tensorflow import keras\n",
        "import tensorflow as tf\n",
        "from sklearn.model_selection import GridSearchCV\n",
        "from sklearn.model_selection import KFold\n",
        "from sklearn.ensemble import GradientBoostingRegressor\n",
        "\n",
        "import numpy as np\n",
        "from matplotlib import pyplot as plt\n",
        "%matplotlib inline\n",
        "\n",
        "# dirPath= 'drive/Mydrive/'\n",
        "dirPath= 'assets/'\n",
        "# dirPath= '../input/assets/'"
      ],
      "execution_count": null,
      "outputs": []
    },
    {
      "cell_type": "code",
      "metadata": {
        "id": "6414f1e1-9f8a-4548-a684-0d471d7413f6"
      },
      "source": [
        "path_to_file = dirPath + 'HalfHeusler.csv'\n",
        "file_name = dirPath + 'Heusler compound.csv'\n",
        "\n",
        "if (not os.path.exists(file_name)):\n",
        "    print (\"A formatted csv file is produced\\n\")\n",
        "    df = pd.read_csv(path_to_file)\n",
        "    print (df.head())\n",
        "\n",
        "    id_list = df['Materials-ID'].to_list()\n",
        "\n",
        "    n = df.columns[0]\n",
        "    df.drop(n, axis=1, inplace=True)\n",
        "\n",
        "    df[n] = [\"mp-\" + str(x) for x in id_list]\n",
        "    print (df.head())\n",
        "\n",
        "    df.to_csv(file_name, index = False)"
      ],
      "execution_count": null,
      "outputs": []
    },
    {
      "cell_type": "markdown",
      "metadata": {
        "id": "a7ed94a0-6557-417a-b694-03f5d24d26f7"
      },
      "source": [
        "- Lattice parameters, atomic radii and atomic masses. The atomic radius is calculated value and not the empirical values\n",
        "- Python library 'pymatgen'"
      ]
    },
    {
      "cell_type": "code",
      "metadata": {
        "id": "83bd3313-ef63-4c79-9d93-9bf56c5f4a74"
      },
      "source": [
        "'''\n",
        "The Element class is located in the core subpakage inside the periodic_table module. \n",
        "The link to the API documentation is below.\n",
        "\n",
        "    https://pymatgen.org/pymatgen.core.periodic_table.html#pymatgen.core.periodic_table.Element\n",
        "\n",
        "Similarly the material project APIs are hosted in the following module.\n",
        "\n",
        "    https://pymatgen.org/pymatgen.ext.matproj.html?highlight=mprester#module-pymatgen.ext.matproj\n",
        "'''\n",
        "\n",
        "file_name_train = dirPath + 'Training data.csv'\n",
        "\n",
        "if (not os.path.exists(file_name_train)):\n",
        "    print (\"Training data will be generated\\n\")\n",
        "\n",
        "    heusler_df = pd.read_csv(file_name, header=0, usecols= ['Materials-ID', '4a-site', '4b-site', '4c-site'])\n",
        "    data = []\n",
        "\n",
        "    m = MPRester('fmdc9tZK1xE74JOq')\n",
        "    for idx in heusler_df.index:\n",
        "        mat_data = m.get_data(heusler_df['Materials-ID'][idx])\n",
        "        lat = m.get_structure_by_material_id(heusler_df['Materials-ID'][idx])\n",
        "        \n",
        "        lat_const = lat.lattice.abc\n",
        "        mag_moment = sum(lat.site_properties['magmom'])\n",
        "        \n",
        "        e1 = pg.Element(heusler_df['4a-site'][idx])\n",
        "        e2 = pg.Element(heusler_df['4b-site'][idx])\n",
        "        e3 = pg.Element(heusler_df['4c-site'][idx])\n",
        "\n",
        "        x1 = e1.atomic_radius\n",
        "        x2 = e2.atomic_radius\n",
        "        x3 = e3.atomic_radius\n",
        "        m1 = e1.atomic_mass\n",
        "        m2 = e2.atomic_mass\n",
        "        m3 = e3.atomic_mass\n",
        "        \n",
        "        \n",
        "        x29 = m1+m2+m3\n",
        "        x30 = x1+x2+x3\n",
        "        x33 = (x29/3 -m1)\n",
        "        x34 = (x29/3 -m2)\n",
        "        x35 = (x29/3 -m3)\n",
        "        x42 = (x30/3 -x1)\n",
        "        x43 = (x30/3 -x2)\n",
        "        x44 = (x30/3 -x3)\n",
        "        x51 = (x1**2 + x2**2)\n",
        "        x52 = (x1**2 + x3**2)\n",
        "            \n",
        "        data.append((x1,x2,x3,m1,m2,m3,m1**2,m2**2,m3**2,x1**2,x2**2,x3**2,\n",
        "                     m1**3,m2**3,m3**3,x1**3,x2**3,x3**3,\n",
        "                     sqrt(m1),sqrt(m2),sqrt(m3),sqrt(x1),sqrt(x2),sqrt(x3),\n",
        "                     m2/m1, x3/m1, x2/x1,x3/x1, x29,x30,\n",
        "                     ((m1**2+m2**2+m3**2)/3.)**2, ((x1**2+x2**2+x3**2)/3.)**2,\n",
        "                     x33, x34, x35, abs(x33), abs(x34), abs(x35), x33**2, x34**2, x35**2,\n",
        "                     x42, x43, x44, abs(x42), abs(x43), abs(x44), x42**2, x43**2, x44**2,\n",
        "                     x51, x52,sqrt(x51), sqrt(x52), \n",
        "                     mat_data[0][\"formation_energy_per_atom\"], # mag_moment,\n",
        "                     lat_const[0], lat_const[1], lat_const[2]\n",
        "                    ))\n",
        "\n",
        "    idx = []\n",
        "    for i in range(1, 55):\n",
        "        idx.append('x'+str(i))\n",
        "\n",
        "#     idx.extend(['form_energy_per_atom', 'total_magnetic_moment','a', 'b', 'c'])\n",
        "    idx.extend(['form_energy_per_atom','a', 'b', 'c'])\n",
        "    df_train = pd.DataFrame(data, columns = idx)\n",
        "\n",
        "    df_train.to_csv(file_name_train, index = False)"
      ],
      "execution_count": null,
      "outputs": []
    },
    {
      "cell_type": "markdown",
      "metadata": {
        "id": "d8b0b11a-42ea-4618-97e2-168a11042613"
      },
      "source": [
        "## Machine Learning\n",
        "The gradient boosted trees are selected for the regression task. The cross-validation is the first step.\n"
      ]
    },
    {
      "cell_type": "markdown",
      "metadata": {
        "id": "07770aea-6d95-4202-a1c3-034e20ce9c6f"
      },
      "source": [
        "\n",
        "### Cross-Validation\n",
        "A five fold cross validation will be performed for the better performance of the model."
      ]
    },
    {
      "cell_type": "code",
      "metadata": {
        "id": "03900c06-44bc-484f-a04f-fcf4ebf9471e",
        "outputId": "d5c115c0-41a5-4f2d-c11f-b1a880c281e5"
      },
      "source": [
        "df = pd.read_csv(dirPath + 'Training data.csv')\n",
        "X = df.iloc[:, :-3]\n",
        "y = df.iloc[:, -1]\n",
        "\n",
        "k = 5\n",
        "kf = KFold(n_splits=k)\n",
        "scoreR2 = []\n",
        "y_pred = []\n",
        "\n",
        "gbReg = GradientBoostingRegressor(loss = 'lad', n_estimators=700, max_depth= 18, random_state= 44)\n",
        "\n",
        "for train_idx, test_idx in kf.split(X):\n",
        "#     X_train, X_test = X[train_idx, :], X[test_idx, :]\n",
        "    X_train, X_test = X.iloc[train_idx, :], X.iloc[test_idx, :]\n",
        "    y_train, y_test = y.iloc[train_idx], y.iloc[test_idx]\n",
        "    \n",
        "    gbReg.fit(X_train, y_train)\n",
        "    y_pred.extend(gbReg.predict(X_train))\n",
        "    \n",
        "    scoreR2.append(gbReg.score(X_test, y_test))\n",
        "    \n",
        "print (sum(scoreR2)/k)\n",
        "\n",
        "X_train, X_test, y_train, y_test = train_test_split(X, y, test_size=0.2, random_state=42)\n",
        "\n",
        "gbReg.fit(X_train, y_train)\n",
        "print (gbReg.score(X_test, y_test))"
      ],
      "execution_count": null,
      "outputs": [
        {
          "name": "stdout",
          "output_type": "stream",
          "text": [
            "0.8575876900175403\n",
            "0.9153343661809007\n"
          ]
        }
      ]
    },
    {
      "cell_type": "markdown",
      "metadata": {
        "id": "7d0a8b94-3463-4d84-8886-448708fe2b52"
      },
      "source": [
        "## Grid Search\n",
        "Hyperparameter tuning"
      ]
    },
    {
      "cell_type": "code",
      "metadata": {
        "id": "0c33fafc-61c5-4164-bc6f-7f83a798d671"
      },
      "source": [
        "# %pip install numpy\n",
        "# %pip install matplotlib\n",
        "\n",
        "max_depth = [14, 16,18,20,22,24]\n",
        "n_estimators = [100, 400, 700, 1000]\n",
        "learning_rate = [0.09, 0.1, 0.11, 0.12]\n",
        "param_grid = dict(max_depth=max_depth, n_estimators= n_estimators)\n",
        "\n",
        "grid_search = GridSearchCV(gbReg, param_grid, scoring=\"r2\", n_jobs=-1, cv=kf)\n",
        "grid_result = grid_search.fit(X, y)\n",
        "# summarize results\n",
        "print(\"Best: %f using %s\" % (grid_result.best_score_, grid_result.best_params_))\n",
        "print (\"\\n\")\n",
        "\n",
        "means = grid_result.cv_results_['mean_test_score']\n",
        "stds = grid_result.cv_results_['std_test_score']\n",
        "params = grid_result.cv_results_['params']\n",
        "\n",
        "best_model = grid_result.best_estimator_\n",
        "best_model.fit(X_train, y_train)\n",
        "print (\"The score for best estimator: \\n\")\n",
        "print (best_model.score(X_test, y_test))\n",
        "\n",
        "print (\"\\n\")\n",
        "\n",
        "for mean, stdev, param in zip(means, stds, params):\n",
        "\tprint(\"%f (%f) with: %r\" % (mean, stdev, param))\n",
        "    \n",
        "# plot results\n",
        "scores = np.array(means).reshape(len(max_depth), len(n_estimators))\n",
        "for i, value in enumerate(max_depth):\n",
        "    plt.plot(n_estimators, scores[i], label='max_depth: ' + str(value))\n",
        "plt.legend()\n",
        "plt.xlabel('n_estimators')\n",
        "plt.ylabel('R2 score')"
      ],
      "execution_count": null,
      "outputs": []
    },
    {
      "cell_type": "code",
      "metadata": {
        "id": "NVdRQV2p9TwE"
      },
      "source": [
        "scores = np.array(means).reshape(len(n_estimators),len(max_depth))\n",
        "for i, value in enumerate(n_estimators):\n",
        "    plt.plot(max_depth, scores[i], label='n_estimators: ' + str(value))\n",
        "plt.legend()\n",
        "plt.xlabel('max_depth')\n",
        "plt.ylabel('R2 score')\n",
        "\n",
        "'''\n",
        "    lr =0.1\n",
        "    max_depth/n_estimators= 16/1000 or 20/700 or 18/700\n",
        "'''"
      ],
      "execution_count": null,
      "outputs": []
    },
    {
      "cell_type": "markdown",
      "metadata": {
        "id": "C9isIYEPJ5sy"
      },
      "source": [
        "## Neural Network \n",
        "\n",
        "The Boosted Trees performed very well. It was on par with the published paper. A juxtaposition with an artificial neural network would be interesting. The latter must me a better choice. \n",
        "\n",
        "ANN is easy to build especially after the introduction of Keras module in Tensorflow. \n",
        "\n",
        "### Scaling\n",
        "Use MinMaxScaler"
      ]
    },
    {
      "cell_type": "code",
      "metadata": {
        "id": "cce1dc4e-9e24-49d1-aff0-2d535265564d",
        "colab": {
          "base_uri": "https://localhost:8080/"
        },
        "outputId": "e8854a62-2958-4fdb-f428-fded9403308b"
      },
      "source": [
        "# The seed is required for replication of results. Parameters defined.\n",
        "seed = 1111\n",
        "n_cols = 54\n",
        "\n",
        "# df = pd.read_csv('drive/MyDrive/Training data.csv', usecols= ['x1', 'x2', 'x3','x4', 'x5', 'x6','form_energy_per_atom', 'a', 'b', 'c'])\n",
        "df = pd.read_csv(dirPath + 'Training data.csv')\n",
        "\n",
        "X = df.iloc[:, :n_cols]\n",
        "y = df.iloc[:, -3:]\n",
        "\n",
        "X_train, X_test, y_train, y_test = train_test_split(X, y, test_size=0.2, random_state=seed)\n",
        "\n",
        "trans = MinMaxScaler()\n",
        "# trans = StandardScaler()\n",
        "X_train_scaled = trans.fit_transform(X_train)\n",
        "X_test_scaled = trans.fit_transform(X_test)\n",
        "X_scaled = trans.fit_transform(X)\n",
        "print (X_scaled[0,:])\n",
        "print (X_train_scaled[0,:])\n",
        "print (X_test_scaled[0,:])\n"
      ],
      "execution_count": null,
      "outputs": [
        {
          "output_type": "stream",
          "text": [
            "[4.78260870e-01 3.91304348e-01 5.60000000e-01 1.64504114e-01\n",
            " 5.14650821e-01 9.39921298e-01 3.48502212e-02 3.14376210e-01\n",
            " 8.88121115e-01 3.89966555e-01 3.04347826e-01 4.39215686e-01\n",
            " 6.71244464e-03 1.82203973e-01 8.37248004e-01 3.09616322e-01\n",
            " 2.29194345e-01 3.31960133e-01 3.18154136e-01 6.31446131e-01\n",
            " 9.63185617e-01 5.23866112e-01 4.37839988e-01 6.21604719e-01\n",
            " 1.42343383e-01 1.08332781e-01 5.11347765e-01 4.79681559e-01\n",
            " 5.90394941e-01 4.71698113e-01 2.38831667e-01 2.50094473e-01\n",
            " 9.97778804e-01 5.23512429e-01 2.39481808e-01 7.55739640e-01\n",
            " 1.35823689e-02 5.93217710e-01 5.71444605e-01 2.04636267e-04\n",
            " 3.54534887e-01 4.72222222e-01 4.88372093e-01 3.78378378e-01\n",
            " 3.20000000e-01 4.34782609e-02 2.33333333e-01 1.02400000e-01\n",
            " 1.89035917e-03 5.44444444e-02 2.93858036e-01 4.57718121e-01\n",
            " 3.64911871e-01 5.41324956e-01]\n",
            "[0.7826087  0.43478261 1.         0.57105744 0.         0.97680217\n",
            " 0.33998752 0.         0.95637163 0.72240803 0.34506556 1.\n",
            " 0.19871264 0.         0.93543885 0.6593259  0.26570825 1.\n",
            " 0.71529774 0.         0.98568378 0.81067122 0.48198743 1.\n",
            " 0.         0.03561061 0.31155995 0.56539047 0.60345077 0.83018868\n",
            " 0.30116907 0.66971477 0.47476816 1.         0.21607835 0.16379484\n",
            " 0.93719638 0.63297068 0.02705297 0.87897278 0.4031816  0.41666667\n",
            " 0.86046512 0.         0.4        0.73913043 0.24137931 0.16\n",
            " 0.5463138  0.05826397 0.49834498 1.         0.57334451 1.        ]\n",
            "[0.5        0.38888889 0.875      0.66775195 0.5310495  0.26432593\n",
            " 0.4587802  0.33137576 0.0868844  0.44444444 0.31989247 0.83333333\n",
            " 0.31122076 0.19671734 0.02636676 0.39068826 0.25755361 0.7879416\n",
            " 0.78625077 0.64584152 0.42231172 0.52804098 0.4251467  0.89379021\n",
            " 0.0370635  0.01362502 0.18032311 0.546875   0.51816704 0.52272727\n",
            " 0.15218231 0.32167054 0.12897023 0.48244108 0.82005331 0.73214023\n",
            " 0.10218001 0.59233334 0.55593231 0.01060271 0.35598528 0.20689655\n",
            " 0.67857143 0.38709677 0.68421053 0.35714286 0.36666667 0.52\n",
            " 0.12755102 0.13444444 0.33094213 0.57441992 0.38294233 0.63200555]\n"
          ],
          "name": "stdout"
        }
      ]
    },
    {
      "cell_type": "markdown",
      "metadata": {
        "id": "Eyep75Fw2LnK"
      },
      "source": [
        "## The parameters\n",
        "\n",
        "#### 6,4500-5500 best so far for epoch 1800-2000\n",
        "\n",
        "(2, 600)/({nl-3, nn-800/nn-600, ep-2000}: 0.89)\n",
        "\n",
        "({nl-5, nn-3200, ep-1700}: 0.87)\n",
        "\n",
        "({nl-5, nn-3500, ep-1800}: 0.906)\n",
        "\n",
        "5, 2500-3500 epochs 500\n",
        "\n",
        "7, 2500 by GridSearchCV in kaggle\n",
        "3, 1200 for one column output for epoch 850"
      ]
    },
    {
      "cell_type": "code",
      "metadata": {
        "id": "0df9mMKWKL-A"
      },
      "source": [
        "from tensorflow.keras import backend as K\n",
        "from tensorflow.keras.callbacks import ModelCheckpoint\n",
        "\n",
        "# tolerance_value = 90\n",
        "n_epochs = 1600\n",
        "layers = 6\n",
        "neural_nodes = 4500\n",
        "lr = 1e-4\n",
        "out_nodes = 3\n",
        "\n",
        "# checkpoint\n",
        "filepath=\"weights.best.hdf5\"\n",
        "checkpoint = ModelCheckpoint(filepath, monitor='val_r_square', verbose=1, save_best_only=True, mode='max')\n",
        "callbacks_list = [checkpoint]\n",
        "\n",
        "# coefficient of determination (R^2) for regression  (only for Keras tensors)\n",
        "def r_square(y_true, y_pred):\n",
        "    SS_res =  K.sum(K.square(y_true - y_pred)) \n",
        "    SS_tot = K.sum(K.square(y_true - K.mean(y_true))) \n",
        "    return ( 1 - SS_res/SS_tot + K.epsilon())\n",
        "\n",
        "def build_model(n_hidden=layers, n_neurons=neural_nodes, learning_rate=lr, input_shape=[n_cols,]):\n",
        "    model = keras.Sequential()\n",
        "    model.add(keras.layers.InputLayer(input_shape=input_shape))\n",
        "    for layer in range(n_hidden):\n",
        "        model.add(keras.layers.Dense(n_neurons, activation=\"sigmoid\"))\n",
        "    model.add(keras.layers.Dense(out_nodes))\n",
        "\n",
        "    model.compile(loss='mean_squared_error', optimizer=keras.optimizers.Adam(lr=learning_rate), metrics=[r_square])\n",
        "\n",
        "    return model"
      ],
      "execution_count": 20,
      "outputs": []
    },
    {
      "cell_type": "code",
      "metadata": {
        "id": "QPr_BQzzZlC8"
      },
      "source": [
        "# The wrapper is neccessary for GridSearch later in this notebook\n",
        "keras_reg = keras.wrappers.scikit_learn.KerasRegressor(build_model)\n",
        "\n",
        "# The history dictionary is useful for 'loss' plot of the model. In this case, the 'loss' is mean absolute error \n",
        "history = keras_reg.fit(X_train_scaled, y_train, epochs=n_epochs,validation_data=(X_test_scaled, y_test),\n",
        "                        callbacks=callbacks_list)\n",
        "#               callbacks=[keras.callbacks.EarlyStopping(monitor='val_loss', patience=tolerance_value)])\n",
        "\n",
        "# Test on the holdout data\n",
        "mse_test = keras_reg.score(X_test_scaled, y_test)\n",
        "y_pred = keras_reg.predict(X_test_scaled)\n",
        "\n",
        "plt.figure()\n",
        "plt.plot(history.history['r_square'])\n",
        "plt.plot(history.history['val_r_square'])\n",
        "plt.ylim(0.85,1)\n",
        "plt.xlim(250)\n",
        "plt.title(\"Model co-efficient of determination\")\n",
        "plt.ylabel(\"R-squared score\")\n",
        "plt.xlabel(\"Epoch\")\n",
        "plt.legend([\"Train\", \"Test\"])\n",
        "plt.show()\n",
        "\n",
        "# print (\"\\n The predicted values (Lattice constants)\")\n",
        "print (y_pred)\n",
        "print (\"\\n The mean square error (MSE)\")\n",
        "print (mse_test)\n",
        "print (\"\\n The R-square metric is\")\n",
        "print (r_square(tf.convert_to_tensor(value=y_test.values, dtype='float32'), y_pred).numpy())"
      ],
      "execution_count": null,
      "outputs": []
    },
    {
      "cell_type": "code",
      "metadata": {
        "id": "AytK8dg82LnL",
        "colab": {
          "base_uri": "https://localhost:8080/"
        },
        "outputId": "c3cd0d6e-60fc-4ff8-b2ee-9002f0caf7d8"
      },
      "source": [
        "model = keras.Sequential()\n",
        "model.add(keras.layers.InputLayer(input_shape=[n_cols,]))\n",
        "for layer in range(layers):\n",
        "    model.add(keras.layers.Dense(neural_nodes, activation=\"sigmoid\"))\n",
        "model.add(keras.layers.Dense(out_nodes))\n",
        "model.load_weights(filepath)\n",
        "model.compile(loss='mean_squared_error', optimizer=keras.optimizers.Adam(lr=lr), metrics=[r_square])\n",
        "\n",
        "# Test on the holdout data\n",
        "scores = model.evaluate(X_scaled, y, verbose=0)\n",
        "print(\"%s: %.2f%%\" % (model.metrics_names[1], scores[1]*100))\n",
        "y_pred = model.predict(X_scaled)\n",
        "\n",
        "print (\"\\n The predicted values (Lattice constants)\")\n",
        "print (y_pred)\n",
        "print (\"\\n The mean square error (MSE)\")\n",
        "print (mse_test)\n",
        "print (\"\\n The R-square metric is\")\n",
        "print (r_square(tf.convert_to_tensor(value=y.values, dtype='float32'), y_pred).numpy())"
      ],
      "execution_count": 24,
      "outputs": [
        {
          "output_type": "stream",
          "text": [
            "r_square: 91.17%\n",
            "\n",
            " The predicted values (Lattice constants)\n",
            "[[4.554674  4.5615664 4.5623617]\n",
            " [4.097783  4.103268  4.103541 ]\n",
            " [4.424891  4.430809  4.431807 ]\n",
            " [4.674197  4.681325  4.682094 ]\n",
            " [4.354044  4.360436  4.3611126]\n",
            " [4.5221367 4.528181  4.5292697]\n",
            " [4.5182247 4.5243864 4.5254254]\n",
            " [4.5197983 4.5259132 4.5269723]\n",
            " [3.462201  3.4705153 3.4713852]\n",
            " [4.5207486 4.5268345 4.527905 ]\n",
            " [4.705918  4.71267   4.7136083]\n",
            " [4.673727  4.6809044 4.6816516]\n",
            " [4.67431   4.6814265 4.682199 ]\n",
            " [4.288162  4.2940116 4.2947083]\n",
            " [4.2168603 4.224157  4.224138 ]\n",
            " [4.5540943 4.5609703 4.5617714]\n",
            " [3.8867586 3.8902423 3.8909461]\n",
            " [4.2823925 4.288555  4.2891245]\n",
            " [4.2742424 4.2814384 4.2816224]\n",
            " [4.6733108 4.680466  4.681223 ]\n",
            " [4.1811123 4.188042  4.188039 ]\n",
            " [4.805822  4.813784  4.814254 ]\n",
            " [4.593412  4.5986753 4.600134 ]\n",
            " [4.6319523 4.638005  4.6391845]\n",
            " [4.709285  4.7163134 4.71714  ]\n",
            " [4.4742794 4.4810047 4.4817815]\n",
            " [4.4507885 4.4556417 4.457079 ]\n",
            " [4.5500517 4.5573683 4.5579925]\n",
            " [4.674381  4.6814113 4.682221 ]\n",
            " [4.673792  4.6808977 4.6816754]\n",
            " [4.6742005 4.6812577 4.6820545]\n",
            " [4.6739078 4.6810017 4.6817837]\n",
            " [4.674059  4.6811333 4.681924 ]\n",
            " [4.697261  4.704954  4.7054915]\n",
            " [4.515828  4.5220647 4.5230727]\n",
            " [4.364778  4.371286  4.3719473]\n",
            " [4.2188473 4.226103  4.226104 ]\n",
            " [4.337663  4.345937  4.345902 ]\n",
            " [4.3185487 4.3255105 4.325896 ]\n",
            " [3.8748538 3.8800292 3.8801386]\n",
            " [4.244229  4.251255  4.2514076]\n",
            " [4.13455   4.141686  4.1414866]\n",
            " [4.0025    4.0081205 4.008157 ]\n",
            " [4.2480063 4.2553816 4.2554274]\n",
            " [4.5159616 4.5208282 4.5223618]\n",
            " [4.1972523 4.2045975 4.2045035]\n",
            " [4.0531573 4.0592346 4.059201 ]\n",
            " [4.372108  4.3784976 4.3792157]\n",
            " [4.3605433 4.367298  4.367862 ]\n",
            " [4.6377587 4.6423335 4.6441   ]\n",
            " [4.9316816 4.937286  4.9388885]\n",
            " [4.492398  4.4983244 4.4994283]\n",
            " [4.5804543 4.5873895 4.588188 ]\n",
            " [4.419797  4.427317  4.427716 ]\n",
            " [4.08475   4.090552  4.0906806]\n",
            " [4.1806197 4.189432  4.1887846]\n",
            " [4.292802  4.301364  4.301117 ]\n",
            " [4.5272074 4.534274  4.5349813]\n",
            " [5.273713  5.2810383 5.282434 ]\n",
            " [5.0099006 5.017879  5.018528 ]\n",
            " [4.8305535 4.8360066 4.837573 ]\n",
            " [4.6082726 4.6135993 4.6150475]\n",
            " [4.581761  4.586607  4.5882115]\n",
            " [4.734444  4.7409863 4.742023 ]\n",
            " [4.271736  4.280295  4.2799935]\n",
            " [4.75807   4.764842  4.765795 ]\n",
            " [4.368534  4.3746896 4.375482 ]\n",
            " [4.672253  4.6790833 4.6799684]\n",
            " [4.67315   4.6799617 4.680855 ]\n",
            " [4.6313386 4.6374087 4.6385813]\n",
            " [4.368534  4.3746896 4.375482 ]\n",
            " [4.5624714 4.569347  4.5701456]\n",
            " [4.3116426 4.319925  4.3198266]\n",
            " [4.842391  4.850395  4.850868 ]\n",
            " [4.709587  4.7166376 4.7174554]\n",
            " [4.2161174 4.2234144 4.223393 ]\n",
            " [4.5188847 4.5250273 4.526074 ]\n",
            " [4.491235  4.4984026 4.499023 ]\n",
            " [4.535662  4.5425115 4.543298 ]\n",
            " [4.805312  4.813293  4.813753 ]\n",
            " [4.8055716 4.8135433 4.814008 ]\n",
            " [4.674457  4.6815534 4.682336 ]\n",
            " [4.806152  4.8141017 4.8145757]\n",
            " [4.718314  4.726039  4.726571 ]\n",
            " [4.718051  4.725798  4.7263217]\n",
            " [4.718188  4.7259254 4.7264524]\n",
            " [4.558251  4.5652285 4.565983 ]\n",
            " [4.455301  4.4622965 4.462939 ]\n",
            " [4.6361175 4.6424017 4.6434855]\n",
            " [4.392521  4.4004145 4.40063  ]\n",
            " [4.6636934 4.671464  4.6719575]\n",
            " [4.395622  4.403175  4.4035153]\n",
            " [4.3293166 4.337138  4.3372436]\n",
            " [4.243755  4.2512856 4.251265 ]\n",
            " [4.443486  4.4496846 4.450615 ]\n",
            " [4.285322  4.2910137 4.2917557]\n",
            " [4.341784  4.3487816 4.3492146]\n",
            " [4.6327977 4.638826  4.6400156]\n",
            " [4.612131  4.618787  4.6197066]\n",
            " [4.1936235 4.200949  4.200852 ]\n",
            " [4.560805  4.56772   4.568502 ]\n",
            " [4.567387  4.573236  4.5744433]\n",
            " [4.5332885 4.5389395 4.5401955]\n",
            " [4.7478633 4.7541823 4.7553263]\n",
            " [4.7553053 4.763029  4.7635775]\n",
            " [4.8409433 4.848795  4.8493333]\n",
            " [4.3403735 4.347831  4.348092 ]\n",
            " [4.7169213 4.7236977 4.724628 ]\n",
            " [4.30739   4.315855  4.3156796]\n",
            " [4.2583632 4.2656345 4.265746 ]\n",
            " [4.430882  4.4363527 4.437518 ]\n",
            " [3.6996331 3.702697  3.703938 ]\n",
            " [4.4174795 4.423305  4.42432  ]\n",
            " [5.4220824 5.4291053 5.4309125]\n",
            " [4.0055337 4.011499  4.0114202]\n",
            " [4.8310003 4.8363576 4.8379607]\n",
            " [4.8071685 4.812915  4.8143363]\n",
            " [4.2551556 4.2626376 4.2626667]\n",
            " [5.0234113 5.029868  5.031229 ]\n",
            " [4.671382  4.676019  4.677793 ]\n",
            " [4.5997324 4.6049805 4.6064515]\n",
            " [5.3989687 5.4059005 5.4077263]\n",
            " [4.37657   4.3825254 4.383409 ]\n",
            " [4.4558015 4.460715  4.4621325]\n",
            " [4.2079787 4.2148595 4.2149534]\n",
            " [4.66561   4.672068  4.673097 ]\n",
            " [4.751497  4.7590537 4.7596717]\n",
            " [4.568654  4.5753055 4.576199 ]\n",
            " [4.5649247 4.5717425 4.5725665]\n",
            " [4.561505  4.5684032 4.569193 ]\n",
            " [4.8340254 4.840967  4.841897 ]\n",
            " [4.6641855 4.670667  4.671686 ]\n",
            " [4.759133  4.765891  4.766851 ]\n",
            " [4.670745  4.677606  4.678477 ]\n",
            " [4.6713796 4.678228  4.6791053]\n",
            " [4.7184634 4.7261753 4.7267137]\n",
            " [4.717473  4.7252564 4.7257643]\n",
            " [4.71794   4.7256966 4.726216 ]\n",
            " [4.671382  4.676019  4.677793 ]\n",
            " [4.674447  4.681232  4.6821356]\n",
            " [4.668404  4.6753144 4.676163 ]\n",
            " [4.392937  4.400768  4.401008 ]\n",
            " [4.633671  4.6396756 4.6408744]]\n",
            "\n",
            " The mean square error (MSE)\n",
            "-0.009130389429628849\n",
            "\n",
            " The R-square metric is\n",
            "0.9449265\n"
          ],
          "name": "stdout"
        }
      ]
    },
    {
      "cell_type": "markdown",
      "metadata": {
        "id": "rH1XkCwTvSIo"
      },
      "source": [
        "## Grid Search\n",
        "\n",
        "The hyperparamter tuning for NN."
      ]
    },
    {
      "cell_type": "code",
      "metadata": {
        "id": "ThABmFyXvXYu",
        "colab": {
          "base_uri": "https://localhost:8080/",
          "height": 34
        },
        "outputId": "8450c5a3-5a9f-4dac-889a-75387a9e8a7c"
      },
      "source": [
        "# # tolerance_value = 50\n",
        "# from sklearn.metrics import make_scorer\n",
        "\n",
        "# # coefficient of determination (R^2) for regression  (only for Keras tensors)\n",
        "# def r_square(y_true, y_pred):\n",
        "# #     y_true = tf.convert_to_tensor(value=y_true, dtype='float32')\n",
        "   \n",
        "#     SS_res =  K.sum(K.square(y_true - y_pred)) \n",
        "#     SS_tot = K.sum(K.square(y_true - K.mean(y_true)))\n",
        "#     return (1 - SS_res/(SS_tot + K.epsilon())).numpy()\n",
        "\n",
        "# param_distribs = {\n",
        "# #     \"n_hidden\": [4, 5, 6, 7, 8],\n",
        "# #     \"n_neurons\": [1500, 2000, 2500, 3000, 3500, 4000],\n",
        "#     \"n_hidden\": [5],\n",
        "#     \"n_neurons\": [2500, 3000, 3500, 4000],\n",
        "# }\n",
        "\n",
        "# search_cv = GridSearchCV(estimator= keras_reg,\n",
        "#                          param_grid= param_distribs, \n",
        "#                          cv= 4,\n",
        "#                          scoring =make_scorer(r_square))\n",
        "\n",
        "# grid_result = search_cv.fit(X_scaled, y.to_numpy())\n",
        "# #                 validation_data=(X_test_scaled, y_test),\n",
        "#                 # callbacks=[keras.callbacks.EarlyStopping(monitor='loss', patience=tolerance_value)])\n",
        "\n",
        "# print(\"Best: %f using %s\" % (grid_result.best_score_, grid_result.best_params_))\n",
        "# means = grid_result.cv_results_['mean_test_score']\n",
        "# stds = grid_result.cv_results_['std_test_score']\n",
        "# params = grid_result.cv_results_['params']\n",
        "\n",
        "# for mean, stdev, param in zip(means, stds, params):\n",
        "#     print(\"mean: %f, std: (%f) parameters: %r\" % (mean, stdev, param))"
      ],
      "execution_count": null,
      "outputs": [
        {
          "output_type": "display_data",
          "data": {
            "application/javascript": [
              "\n",
              "    async function download(id, filename, size) {\n",
              "      if (!google.colab.kernel.accessAllowed) {\n",
              "        return;\n",
              "      }\n",
              "      const div = document.createElement('div');\n",
              "      const label = document.createElement('label');\n",
              "      label.textContent = `Downloading \"${filename}\": `;\n",
              "      div.appendChild(label);\n",
              "      const progress = document.createElement('progress');\n",
              "      progress.max = size;\n",
              "      div.appendChild(progress);\n",
              "      document.body.appendChild(div);\n",
              "\n",
              "      const buffers = [];\n",
              "      let downloaded = 0;\n",
              "\n",
              "      const channel = await google.colab.kernel.comms.open(id);\n",
              "      // Send a message to notify the kernel that we're ready.\n",
              "      channel.send({})\n",
              "\n",
              "      for await (const message of channel.messages) {\n",
              "        // Send a message to notify the kernel that we're ready.\n",
              "        channel.send({})\n",
              "        if (message.buffers) {\n",
              "          for (const buffer of message.buffers) {\n",
              "            buffers.push(buffer);\n",
              "            downloaded += buffer.byteLength;\n",
              "            progress.value = downloaded;\n",
              "          }\n",
              "        }\n",
              "      }\n",
              "      const blob = new Blob(buffers, {type: 'application/binary'});\n",
              "      const a = document.createElement('a');\n",
              "      a.href = window.URL.createObjectURL(blob);\n",
              "      a.download = filename;\n",
              "      div.appendChild(a);\n",
              "      a.click();\n",
              "      div.remove();\n",
              "    }\n",
              "  "
            ],
            "text/plain": [
              "<IPython.core.display.Javascript object>"
            ]
          },
          "metadata": {}
        },
        {
          "output_type": "display_data",
          "data": {
            "application/javascript": [
              "download(\"download_f2dd5525-06d8-4ab9-b2a1-5644a9795ecc\", \"weights.best.hdf5\", 1218468608)"
            ],
            "text/plain": [
              "<IPython.core.display.Javascript object>"
            ]
          },
          "metadata": {}
        }
      ]
    },
    {
      "cell_type": "code",
      "metadata": {
        "id": "8UoimM0Ev7je",
        "colab": {
          "base_uri": "https://localhost:8080/",
          "height": 392
        },
        "outputId": "978121cb-fa30-4707-a10b-478fb5e0e5a9"
      },
      "source": [
        "# best_model = grid_result.best_estimator_\n",
        "\n",
        "# print (\"\\nHistory object\\n\")\n",
        "# best_model_history = best_model.fit(X_train_scaled, y_train, epochs=n_epochs,\n",
        "#               validation_data=(X_test_scaled, y_test),\n",
        "#               callbacks=[keras.callbacks.EarlyStopping(patience=tolerance_value)])\n",
        "\n",
        "# y_pred = best_model.predict(X_test)              \n",
        "\n",
        "# plt.figure()\n",
        "# plt.plot(best_model_history.history['loss'])\n",
        "# plt.plot(best_model_history.history['val_loss'])\n",
        "# plt.title(\"Model loss\")\n",
        "# plt.ylabel(\"Mean Square Error (MSE) - Loss\")\n",
        "# plt.xlabel(\"Epoch\")\n",
        "# plt.legend([\"Train\", \"Test\"])\n",
        "# plt.show()\n",
        "\n",
        "# print (\"\\n Best Model's Parameters\")\n",
        "# print (best_model.get_params())\n",
        "# print (\"\\n The mean square error (MSE)\")\n",
        "# print (best_model.score(X_test, y_test))\n",
        "# print (\"\\n The R-square metric is\")\n",
        "# print (r_square(tf.convert_to_tensor(value=y_test.values, dtype='float32'), y_pred))\n",
        "# print (\"\\n The predicted values (Lattice constants)\")\n",
        "# print (y_pred)"
      ],
      "execution_count": null,
      "outputs": [
        {
          "output_type": "error",
          "ename": "RedirectMissingLocation",
          "evalue": "ignored",
          "traceback": [
            "\u001b[0;31m---------------------------------------------------------------------------\u001b[0m",
            "\u001b[0;31mRedirectMissingLocation\u001b[0m                   Traceback (most recent call last)",
            "\u001b[0;32m<ipython-input-13-30b64fac7a23>\u001b[0m in \u001b[0;36m<module>\u001b[0;34m()\u001b[0m\n\u001b[1;32m     17\u001b[0m \u001b[0muploaded\u001b[0m \u001b[0;34m=\u001b[0m \u001b[0mdrive\u001b[0m\u001b[0;34m.\u001b[0m\u001b[0mCreateFile\u001b[0m\u001b[0;34m(\u001b[0m\u001b[0;34m{\u001b[0m\u001b[0;34m'title'\u001b[0m\u001b[0;34m:\u001b[0m \u001b[0;34m'weights.best.hdf5'\u001b[0m\u001b[0;34m}\u001b[0m\u001b[0;34m)\u001b[0m\u001b[0;34m\u001b[0m\u001b[0;34m\u001b[0m\u001b[0m\n\u001b[1;32m     18\u001b[0m \u001b[0muploaded\u001b[0m\u001b[0;34m.\u001b[0m\u001b[0mSetContentFile\u001b[0m\u001b[0;34m(\u001b[0m\u001b[0;34m'weights.best.hdf5'\u001b[0m\u001b[0;34m)\u001b[0m\u001b[0;34m\u001b[0m\u001b[0;34m\u001b[0m\u001b[0m\n\u001b[0;32m---> 19\u001b[0;31m \u001b[0muploaded\u001b[0m\u001b[0;34m.\u001b[0m\u001b[0mUpload\u001b[0m\u001b[0;34m(\u001b[0m\u001b[0;34m)\u001b[0m\u001b[0;34m\u001b[0m\u001b[0;34m\u001b[0m\u001b[0m\n\u001b[0m\u001b[1;32m     20\u001b[0m \u001b[0mprint\u001b[0m\u001b[0;34m(\u001b[0m\u001b[0;34m'Uploaded file with ID {}'\u001b[0m\u001b[0;34m.\u001b[0m\u001b[0mformat\u001b[0m\u001b[0;34m(\u001b[0m\u001b[0muploaded\u001b[0m\u001b[0;34m.\u001b[0m\u001b[0mget\u001b[0m\u001b[0;34m(\u001b[0m\u001b[0;34m'id'\u001b[0m\u001b[0;34m)\u001b[0m\u001b[0;34m)\u001b[0m\u001b[0;34m)\u001b[0m\u001b[0;34m\u001b[0m\u001b[0;34m\u001b[0m\u001b[0m\n\u001b[1;32m     21\u001b[0m \u001b[0;31m# best_model = grid_result.best_estimator_\u001b[0m\u001b[0;34m\u001b[0m\u001b[0;34m\u001b[0m\u001b[0;34m\u001b[0m\u001b[0m\n",
            "\u001b[0;32m/usr/local/lib/python3.7/dist-packages/pydrive/files.py\u001b[0m in \u001b[0;36mUpload\u001b[0;34m(self, param)\u001b[0m\n\u001b[1;32m    283\u001b[0m         \u001b[0mself\u001b[0m\u001b[0;34m.\u001b[0m\u001b[0m_FilesPatch\u001b[0m\u001b[0;34m(\u001b[0m\u001b[0mparam\u001b[0m\u001b[0;34m=\u001b[0m\u001b[0mparam\u001b[0m\u001b[0;34m)\u001b[0m\u001b[0;34m\u001b[0m\u001b[0;34m\u001b[0m\u001b[0m\n\u001b[1;32m    284\u001b[0m     \u001b[0;32melse\u001b[0m\u001b[0;34m:\u001b[0m\u001b[0;34m\u001b[0m\u001b[0;34m\u001b[0m\u001b[0m\n\u001b[0;32m--> 285\u001b[0;31m       \u001b[0mself\u001b[0m\u001b[0;34m.\u001b[0m\u001b[0m_FilesInsert\u001b[0m\u001b[0;34m(\u001b[0m\u001b[0mparam\u001b[0m\u001b[0;34m=\u001b[0m\u001b[0mparam\u001b[0m\u001b[0;34m)\u001b[0m\u001b[0;34m\u001b[0m\u001b[0;34m\u001b[0m\u001b[0m\n\u001b[0m\u001b[1;32m    286\u001b[0m \u001b[0;34m\u001b[0m\u001b[0m\n\u001b[1;32m    287\u001b[0m   \u001b[0;32mdef\u001b[0m \u001b[0mTrash\u001b[0m\u001b[0;34m(\u001b[0m\u001b[0mself\u001b[0m\u001b[0;34m,\u001b[0m \u001b[0mparam\u001b[0m\u001b[0;34m=\u001b[0m\u001b[0;32mNone\u001b[0m\u001b[0;34m)\u001b[0m\u001b[0;34m:\u001b[0m\u001b[0;34m\u001b[0m\u001b[0;34m\u001b[0m\u001b[0m\n",
            "\u001b[0;32m/usr/local/lib/python3.7/dist-packages/pydrive/auth.py\u001b[0m in \u001b[0;36m_decorated\u001b[0;34m(self, *args, **kwargs)\u001b[0m\n\u001b[1;32m     73\u001b[0m       \u001b[0mself\u001b[0m\u001b[0;34m.\u001b[0m\u001b[0mhttp\u001b[0m \u001b[0;34m=\u001b[0m \u001b[0mself\u001b[0m\u001b[0;34m.\u001b[0m\u001b[0mauth\u001b[0m\u001b[0;34m.\u001b[0m\u001b[0mGet_Http_Object\u001b[0m\u001b[0;34m(\u001b[0m\u001b[0;34m)\u001b[0m\u001b[0;34m\u001b[0m\u001b[0;34m\u001b[0m\u001b[0m\n\u001b[1;32m     74\u001b[0m \u001b[0;34m\u001b[0m\u001b[0m\n\u001b[0;32m---> 75\u001b[0;31m     \u001b[0;32mreturn\u001b[0m \u001b[0mdecoratee\u001b[0m\u001b[0;34m(\u001b[0m\u001b[0mself\u001b[0m\u001b[0;34m,\u001b[0m \u001b[0;34m*\u001b[0m\u001b[0margs\u001b[0m\u001b[0;34m,\u001b[0m \u001b[0;34m**\u001b[0m\u001b[0mkwargs\u001b[0m\u001b[0;34m)\u001b[0m\u001b[0;34m\u001b[0m\u001b[0;34m\u001b[0m\u001b[0m\n\u001b[0m\u001b[1;32m     76\u001b[0m   \u001b[0;32mreturn\u001b[0m \u001b[0m_decorated\u001b[0m\u001b[0;34m\u001b[0m\u001b[0;34m\u001b[0m\u001b[0m\n\u001b[1;32m     77\u001b[0m \u001b[0;34m\u001b[0m\u001b[0m\n",
            "\u001b[0;32m/usr/local/lib/python3.7/dist-packages/pydrive/files.py\u001b[0m in \u001b[0;36m_FilesInsert\u001b[0;34m(self, param)\u001b[0m\n\u001b[1;32m    367\u001b[0m         \u001b[0mparam\u001b[0m\u001b[0;34m[\u001b[0m\u001b[0;34m'media_body'\u001b[0m\u001b[0;34m]\u001b[0m \u001b[0;34m=\u001b[0m \u001b[0mself\u001b[0m\u001b[0;34m.\u001b[0m\u001b[0m_BuildMediaBody\u001b[0m\u001b[0;34m(\u001b[0m\u001b[0;34m)\u001b[0m\u001b[0;34m\u001b[0m\u001b[0;34m\u001b[0m\u001b[0m\n\u001b[1;32m    368\u001b[0m       metadata = self.auth.service.files().insert(**param).execute(\n\u001b[0;32m--> 369\u001b[0;31m         http=self.http)\n\u001b[0m\u001b[1;32m    370\u001b[0m     \u001b[0;32mexcept\u001b[0m \u001b[0merrors\u001b[0m\u001b[0;34m.\u001b[0m\u001b[0mHttpError\u001b[0m \u001b[0;32mas\u001b[0m \u001b[0merror\u001b[0m\u001b[0;34m:\u001b[0m\u001b[0;34m\u001b[0m\u001b[0;34m\u001b[0m\u001b[0m\n\u001b[1;32m    371\u001b[0m       \u001b[0;32mraise\u001b[0m \u001b[0mApiRequestError\u001b[0m\u001b[0;34m(\u001b[0m\u001b[0merror\u001b[0m\u001b[0;34m)\u001b[0m\u001b[0;34m\u001b[0m\u001b[0;34m\u001b[0m\u001b[0m\n",
            "\u001b[0;32m/usr/local/lib/python3.7/dist-packages/googleapiclient/_helpers.py\u001b[0m in \u001b[0;36mpositional_wrapper\u001b[0;34m(*args, **kwargs)\u001b[0m\n\u001b[1;32m    132\u001b[0m                 \u001b[0;32melif\u001b[0m \u001b[0mpositional_parameters_enforcement\u001b[0m \u001b[0;34m==\u001b[0m \u001b[0mPOSITIONAL_WARNING\u001b[0m\u001b[0;34m:\u001b[0m\u001b[0;34m\u001b[0m\u001b[0;34m\u001b[0m\u001b[0m\n\u001b[1;32m    133\u001b[0m                     \u001b[0mlogger\u001b[0m\u001b[0;34m.\u001b[0m\u001b[0mwarning\u001b[0m\u001b[0;34m(\u001b[0m\u001b[0mmessage\u001b[0m\u001b[0;34m)\u001b[0m\u001b[0;34m\u001b[0m\u001b[0;34m\u001b[0m\u001b[0m\n\u001b[0;32m--> 134\u001b[0;31m             \u001b[0;32mreturn\u001b[0m \u001b[0mwrapped\u001b[0m\u001b[0;34m(\u001b[0m\u001b[0;34m*\u001b[0m\u001b[0margs\u001b[0m\u001b[0;34m,\u001b[0m \u001b[0;34m**\u001b[0m\u001b[0mkwargs\u001b[0m\u001b[0;34m)\u001b[0m\u001b[0;34m\u001b[0m\u001b[0;34m\u001b[0m\u001b[0m\n\u001b[0m\u001b[1;32m    135\u001b[0m \u001b[0;34m\u001b[0m\u001b[0m\n\u001b[1;32m    136\u001b[0m         \u001b[0;32mreturn\u001b[0m \u001b[0mpositional_wrapper\u001b[0m\u001b[0;34m\u001b[0m\u001b[0;34m\u001b[0m\u001b[0m\n",
            "\u001b[0;32m/usr/local/lib/python3.7/dist-packages/googleapiclient/http.py\u001b[0m in \u001b[0;36mexecute\u001b[0;34m(self, http, num_retries)\u001b[0m\n\u001b[1;32m    877\u001b[0m             \u001b[0mbody\u001b[0m \u001b[0;34m=\u001b[0m \u001b[0;32mNone\u001b[0m\u001b[0;34m\u001b[0m\u001b[0;34m\u001b[0m\u001b[0m\n\u001b[1;32m    878\u001b[0m             \u001b[0;32mwhile\u001b[0m \u001b[0mbody\u001b[0m \u001b[0;32mis\u001b[0m \u001b[0;32mNone\u001b[0m\u001b[0;34m:\u001b[0m\u001b[0;34m\u001b[0m\u001b[0;34m\u001b[0m\u001b[0m\n\u001b[0;32m--> 879\u001b[0;31m                 \u001b[0m_\u001b[0m\u001b[0;34m,\u001b[0m \u001b[0mbody\u001b[0m \u001b[0;34m=\u001b[0m \u001b[0mself\u001b[0m\u001b[0;34m.\u001b[0m\u001b[0mnext_chunk\u001b[0m\u001b[0;34m(\u001b[0m\u001b[0mhttp\u001b[0m\u001b[0;34m=\u001b[0m\u001b[0mhttp\u001b[0m\u001b[0;34m,\u001b[0m \u001b[0mnum_retries\u001b[0m\u001b[0;34m=\u001b[0m\u001b[0mnum_retries\u001b[0m\u001b[0;34m)\u001b[0m\u001b[0;34m\u001b[0m\u001b[0;34m\u001b[0m\u001b[0m\n\u001b[0m\u001b[1;32m    880\u001b[0m             \u001b[0;32mreturn\u001b[0m \u001b[0mbody\u001b[0m\u001b[0;34m\u001b[0m\u001b[0;34m\u001b[0m\u001b[0m\n\u001b[1;32m    881\u001b[0m \u001b[0;34m\u001b[0m\u001b[0m\n",
            "\u001b[0;32m/usr/local/lib/python3.7/dist-packages/googleapiclient/_helpers.py\u001b[0m in \u001b[0;36mpositional_wrapper\u001b[0;34m(*args, **kwargs)\u001b[0m\n\u001b[1;32m    132\u001b[0m                 \u001b[0;32melif\u001b[0m \u001b[0mpositional_parameters_enforcement\u001b[0m \u001b[0;34m==\u001b[0m \u001b[0mPOSITIONAL_WARNING\u001b[0m\u001b[0;34m:\u001b[0m\u001b[0;34m\u001b[0m\u001b[0;34m\u001b[0m\u001b[0m\n\u001b[1;32m    133\u001b[0m                     \u001b[0mlogger\u001b[0m\u001b[0;34m.\u001b[0m\u001b[0mwarning\u001b[0m\u001b[0;34m(\u001b[0m\u001b[0mmessage\u001b[0m\u001b[0;34m)\u001b[0m\u001b[0;34m\u001b[0m\u001b[0;34m\u001b[0m\u001b[0m\n\u001b[0;32m--> 134\u001b[0;31m             \u001b[0;32mreturn\u001b[0m \u001b[0mwrapped\u001b[0m\u001b[0;34m(\u001b[0m\u001b[0;34m*\u001b[0m\u001b[0margs\u001b[0m\u001b[0;34m,\u001b[0m \u001b[0;34m**\u001b[0m\u001b[0mkwargs\u001b[0m\u001b[0;34m)\u001b[0m\u001b[0;34m\u001b[0m\u001b[0;34m\u001b[0m\u001b[0m\n\u001b[0m\u001b[1;32m    135\u001b[0m \u001b[0;34m\u001b[0m\u001b[0m\n\u001b[1;32m    136\u001b[0m         \u001b[0;32mreturn\u001b[0m \u001b[0mpositional_wrapper\u001b[0m\u001b[0;34m\u001b[0m\u001b[0;34m\u001b[0m\u001b[0m\n",
            "\u001b[0;32m/usr/local/lib/python3.7/dist-packages/googleapiclient/http.py\u001b[0m in \u001b[0;36mnext_chunk\u001b[0;34m(self, http, num_retries)\u001b[0m\n\u001b[1;32m   1056\u001b[0m             \u001b[0;32mtry\u001b[0m\u001b[0;34m:\u001b[0m\u001b[0;34m\u001b[0m\u001b[0;34m\u001b[0m\u001b[0m\n\u001b[1;32m   1057\u001b[0m                 resp, content = http.request(\n\u001b[0;32m-> 1058\u001b[0;31m                     \u001b[0mself\u001b[0m\u001b[0;34m.\u001b[0m\u001b[0mresumable_uri\u001b[0m\u001b[0;34m,\u001b[0m \u001b[0mmethod\u001b[0m\u001b[0;34m=\u001b[0m\u001b[0;34m\"PUT\"\u001b[0m\u001b[0;34m,\u001b[0m \u001b[0mbody\u001b[0m\u001b[0;34m=\u001b[0m\u001b[0mdata\u001b[0m\u001b[0;34m,\u001b[0m \u001b[0mheaders\u001b[0m\u001b[0;34m=\u001b[0m\u001b[0mheaders\u001b[0m\u001b[0;34m\u001b[0m\u001b[0;34m\u001b[0m\u001b[0m\n\u001b[0m\u001b[1;32m   1059\u001b[0m                 )\n\u001b[1;32m   1060\u001b[0m             \u001b[0;32mexcept\u001b[0m\u001b[0;34m:\u001b[0m\u001b[0;34m\u001b[0m\u001b[0;34m\u001b[0m\u001b[0m\n",
            "\u001b[0;32m/usr/local/lib/python3.7/dist-packages/oauth2client/transport.py\u001b[0m in \u001b[0;36mnew_request\u001b[0;34m(uri, method, body, headers, redirections, connection_type)\u001b[0m\n\u001b[1;32m    173\u001b[0m         resp, content = request(orig_request_method, uri, method, body,\n\u001b[1;32m    174\u001b[0m                                 \u001b[0mclean_headers\u001b[0m\u001b[0;34m(\u001b[0m\u001b[0mheaders\u001b[0m\u001b[0;34m)\u001b[0m\u001b[0;34m,\u001b[0m\u001b[0;34m\u001b[0m\u001b[0;34m\u001b[0m\u001b[0m\n\u001b[0;32m--> 175\u001b[0;31m                                 redirections, connection_type)\n\u001b[0m\u001b[1;32m    176\u001b[0m \u001b[0;34m\u001b[0m\u001b[0m\n\u001b[1;32m    177\u001b[0m         \u001b[0;31m# A stored token may expire between the time it is retrieved and\u001b[0m\u001b[0;34m\u001b[0m\u001b[0;34m\u001b[0m\u001b[0;34m\u001b[0m\u001b[0m\n",
            "\u001b[0;32m/usr/local/lib/python3.7/dist-packages/oauth2client/transport.py\u001b[0m in \u001b[0;36mrequest\u001b[0;34m(http, uri, method, body, headers, redirections, connection_type)\u001b[0m\n\u001b[1;32m    280\u001b[0m     return http_callable(uri, method=method, body=body, headers=headers,\n\u001b[1;32m    281\u001b[0m                          \u001b[0mredirections\u001b[0m\u001b[0;34m=\u001b[0m\u001b[0mredirections\u001b[0m\u001b[0;34m,\u001b[0m\u001b[0;34m\u001b[0m\u001b[0;34m\u001b[0m\u001b[0m\n\u001b[0;32m--> 282\u001b[0;31m                          connection_type=connection_type)\n\u001b[0m\u001b[1;32m    283\u001b[0m \u001b[0;34m\u001b[0m\u001b[0m\n\u001b[1;32m    284\u001b[0m \u001b[0;34m\u001b[0m\u001b[0m\n",
            "\u001b[0;32m/usr/local/lib/python3.7/dist-packages/httplib2/__init__.py\u001b[0m in \u001b[0;36mrequest\u001b[0;34m(self, uri, method, body, headers, redirections, connection_type)\u001b[0m\n\u001b[1;32m   1989\u001b[0m                         \u001b[0mheaders\u001b[0m\u001b[0;34m,\u001b[0m\u001b[0;34m\u001b[0m\u001b[0;34m\u001b[0m\u001b[0m\n\u001b[1;32m   1990\u001b[0m                         \u001b[0mredirections\u001b[0m\u001b[0;34m,\u001b[0m\u001b[0;34m\u001b[0m\u001b[0;34m\u001b[0m\u001b[0m\n\u001b[0;32m-> 1991\u001b[0;31m                         \u001b[0mcachekey\u001b[0m\u001b[0;34m,\u001b[0m\u001b[0;34m\u001b[0m\u001b[0;34m\u001b[0m\u001b[0m\n\u001b[0m\u001b[1;32m   1992\u001b[0m                     )\n\u001b[1;32m   1993\u001b[0m         \u001b[0;32mexcept\u001b[0m \u001b[0mException\u001b[0m \u001b[0;32mas\u001b[0m \u001b[0me\u001b[0m\u001b[0;34m:\u001b[0m\u001b[0;34m\u001b[0m\u001b[0;34m\u001b[0m\u001b[0m\n",
            "\u001b[0;32m/usr/local/lib/python3.7/dist-packages/httplib2/__init__.py\u001b[0m in \u001b[0;36m_request\u001b[0;34m(self, conn, host, absolute_uri, request_uri, method, body, headers, redirections, cachekey)\u001b[0m\n\u001b[1;32m   1688\u001b[0m                             ),\n\u001b[1;32m   1689\u001b[0m                             \u001b[0mresponse\u001b[0m\u001b[0;34m,\u001b[0m\u001b[0;34m\u001b[0m\u001b[0;34m\u001b[0m\u001b[0m\n\u001b[0;32m-> 1690\u001b[0;31m                             \u001b[0mcontent\u001b[0m\u001b[0;34m,\u001b[0m\u001b[0;34m\u001b[0m\u001b[0;34m\u001b[0m\u001b[0m\n\u001b[0m\u001b[1;32m   1691\u001b[0m                         )\n\u001b[1;32m   1692\u001b[0m                     \u001b[0;31m# Fix-up relative redirects (which violate an RFC 2616 MUST)\u001b[0m\u001b[0;34m\u001b[0m\u001b[0;34m\u001b[0m\u001b[0;34m\u001b[0m\u001b[0m\n",
            "\u001b[0;31mRedirectMissingLocation\u001b[0m: Redirected but the response is missing a Location: header."
          ]
        }
      ]
    },
    {
      "cell_type": "code",
      "metadata": {
        "id": "GgxAS5cYlWsP"
      },
      "source": [
        ""
      ],
      "execution_count": null,
      "outputs": []
    },
    {
      "cell_type": "code",
      "metadata": {
        "id": "OaNgeZSe2LnM"
      },
      "source": [
        ""
      ],
      "execution_count": null,
      "outputs": []
    }
  ]
}